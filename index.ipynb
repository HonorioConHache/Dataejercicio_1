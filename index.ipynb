{
 "cells": [
  {
   "cell_type": "markdown",
   "metadata": {},
   "source": [
    "## Librerias."
   ]
  },
  {
   "cell_type": "code",
   "execution_count": 1,
   "metadata": {},
   "outputs": [],
   "source": [
    "import pandas as pd\n",
    "from pandas import DataFrame\n",
    "import numpy as np\n",
    "from datetime import datetime, timedelta\n",
    "import re"
   ]
  },
  {
   "cell_type": "markdown",
   "metadata": {},
   "source": [
    "## Carga de datos"
   ]
  },
  {
   "cell_type": "code",
   "execution_count": 2,
   "metadata": {},
   "outputs": [
    {
     "data": {
      "text/html": [
       "<div>\n",
       "<style scoped>\n",
       "    .dataframe tbody tr th:only-of-type {\n",
       "        vertical-align: middle;\n",
       "    }\n",
       "\n",
       "    .dataframe tbody tr th {\n",
       "        vertical-align: top;\n",
       "    }\n",
       "\n",
       "    .dataframe thead th {\n",
       "        text-align: right;\n",
       "    }\n",
       "</style>\n",
       "<table border=\"1\" class=\"dataframe\">\n",
       "  <thead>\n",
       "    <tr style=\"text-align: right;\">\n",
       "      <th></th>\n",
       "      <th>Fecha / Hora</th>\n",
       "      <th>Asunto</th>\n",
       "    </tr>\n",
       "  </thead>\n",
       "  <tbody>\n",
       "    <tr>\n",
       "      <th>0</th>\n",
       "      <td>2022-06-01T11:07:56+00:00</td>\n",
       "      <td>&lt;7569|20220601&gt; Shein - Control Horas</td>\n",
       "    </tr>\n",
       "    <tr>\n",
       "      <th>1</th>\n",
       "      <td>2022-06-01T11:25:34+00:00</td>\n",
       "      <td>&lt;7865|20220601&gt; Messer Consolidado Correos</td>\n",
       "    </tr>\n",
       "    <tr>\n",
       "      <th>2</th>\n",
       "      <td>2022-06-01T11:26:32+00:00</td>\n",
       "      <td>&lt;6886|20220601&gt; Messer Ocupación Agente</td>\n",
       "    </tr>\n",
       "    <tr>\n",
       "      <th>3</th>\n",
       "      <td>2022-06-01T11:30:51+00:00</td>\n",
       "      <td>&lt;6887|20220601&gt; Messer Niveles De Servicio</td>\n",
       "    </tr>\n",
       "    <tr>\n",
       "      <th>4</th>\n",
       "      <td>2022-06-01T11:33:21+00:00</td>\n",
       "      <td>&lt;6887|20220601&gt; Messer Niveles De Servicio Chile</td>\n",
       "    </tr>\n",
       "    <tr>\n",
       "      <th>5</th>\n",
       "      <td>2022-06-01T11:37:53+00:00</td>\n",
       "      <td>&lt;7776|20220601&gt; BBVA - BBVA EMPRESAS Recuperac...</td>\n",
       "    </tr>\n",
       "    <tr>\n",
       "      <th>6</th>\n",
       "      <td>2022-06-01T11:51:01+00:00</td>\n",
       "      <td>&lt;6885|20220601&gt; Messer 5/15</td>\n",
       "    </tr>\n",
       "    <tr>\n",
       "      <th>7</th>\n",
       "      <td>2022-06-01T12:00:26+00:00</td>\n",
       "      <td>&lt;7745|20220601&gt; Pichincha IVR</td>\n",
       "    </tr>\n",
       "    <tr>\n",
       "      <th>8</th>\n",
       "      <td>2022-06-01T12:00:30+00:00</td>\n",
       "      <td>&lt;6867|20220601&gt; Cruz Verde Informe Diario Juni...</td>\n",
       "    </tr>\n",
       "    <tr>\n",
       "      <th>9</th>\n",
       "      <td>2022-06-01T12:17:21+00:00</td>\n",
       "      <td>&lt;6867|20220601&gt; Cruz Verde Informe Diario Juni...</td>\n",
       "    </tr>\n",
       "  </tbody>\n",
       "</table>\n",
       "</div>"
      ],
      "text/plain": [
       "                Fecha / Hora  \\\n",
       "0  2022-06-01T11:07:56+00:00   \n",
       "1  2022-06-01T11:25:34+00:00   \n",
       "2  2022-06-01T11:26:32+00:00   \n",
       "3  2022-06-01T11:30:51+00:00   \n",
       "4  2022-06-01T11:33:21+00:00   \n",
       "5  2022-06-01T11:37:53+00:00   \n",
       "6  2022-06-01T11:51:01+00:00   \n",
       "7  2022-06-01T12:00:26+00:00   \n",
       "8  2022-06-01T12:00:30+00:00   \n",
       "9  2022-06-01T12:17:21+00:00   \n",
       "\n",
       "                                              Asunto  \n",
       "0              <7569|20220601> Shein - Control Horas  \n",
       "1         <7865|20220601> Messer Consolidado Correos  \n",
       "2            <6886|20220601> Messer Ocupación Agente  \n",
       "3         <6887|20220601> Messer Niveles De Servicio  \n",
       "4   <6887|20220601> Messer Niveles De Servicio Chile  \n",
       "5  <7776|20220601> BBVA - BBVA EMPRESAS Recuperac...  \n",
       "6                        <6885|20220601> Messer 5/15  \n",
       "7                      <7745|20220601> Pichincha IVR  \n",
       "8  <6867|20220601> Cruz Verde Informe Diario Juni...  \n",
       "9  <6867|20220601> Cruz Verde Informe Diario Juni...  "
      ]
     },
     "execution_count": 2,
     "metadata": {},
     "output_type": "execute_result"
    }
   ],
   "source": [
    "data_origin = pd.read_excel('Puntualidad Bogotá.xlsx')\n",
    "datos = DataFrame(data_origin.copy())\n",
    "datos.head(10)"
   ]
  },
  {
   "cell_type": "markdown",
   "metadata": {},
   "source": [
    "## Tipos de datos."
   ]
  },
  {
   "cell_type": "code",
   "execution_count": 3,
   "metadata": {},
   "outputs": [
    {
     "data": {
      "text/plain": [
       "Fecha / Hora    object\n",
       "Asunto          object\n",
       "dtype: object"
      ]
     },
     "execution_count": 3,
     "metadata": {},
     "output_type": "execute_result"
    }
   ],
   "source": [
    "datos.dtypes"
   ]
  },
  {
   "cell_type": "markdown",
   "metadata": {},
   "source": [
    "## Dimenciones del dataframe."
   ]
  },
  {
   "cell_type": "code",
   "execution_count": 4,
   "metadata": {},
   "outputs": [
    {
     "data": {
      "text/plain": [
       "(5383, 2)"
      ]
     },
     "execution_count": 4,
     "metadata": {},
     "output_type": "execute_result"
    }
   ],
   "source": [
    "datos.shape"
   ]
  },
  {
   "cell_type": "markdown",
   "metadata": {},
   "source": [
    "## Datos faltantes."
   ]
  },
  {
   "cell_type": "code",
   "execution_count": 5,
   "metadata": {},
   "outputs": [
    {
     "data": {
      "text/plain": [
       "Fecha / Hora    0\n",
       "Asunto          0\n",
       "dtype: int64"
      ]
     },
     "execution_count": 5,
     "metadata": {},
     "output_type": "execute_result"
    }
   ],
   "source": [
    "datos_faltantes = datos.isnull().sum().sort_values(ascending=True)\n",
    "datos_faltantes"
   ]
  },
  {
   "cell_type": "markdown",
   "metadata": {},
   "source": [
    "## Porcentajes de datos faltantes por columna."
   ]
  },
  {
   "cell_type": "code",
   "execution_count": 6,
   "metadata": {},
   "outputs": [
    {
     "name": "stdout",
     "output_type": "stream",
     "text": [
      "Fecha / Hora = 0.0\n",
      "Asunto = 0.0\n"
     ]
    }
   ],
   "source": [
    "for column in datos.columns:\n",
    "    porcentaje_faltantes = datos[column].isnull().mean()\n",
    "    print(column, '=', round(porcentaje_faltantes*100,2))"
   ]
  },
  {
   "cell_type": "markdown",
   "metadata": {},
   "source": [
    "## Convertir la columna tipo object a datetime64 en una nueva columna."
   ]
  },
  {
   "cell_type": "code",
   "execution_count": 7,
   "metadata": {},
   "outputs": [
    {
     "data": {
      "text/plain": [
       "Fecha / Hora    datetime64[ns, UTC]\n",
       "Asunto                       object\n",
       "dtype: object"
      ]
     },
     "execution_count": 7,
     "metadata": {},
     "output_type": "execute_result"
    }
   ],
   "source": [
    "datos['Fecha / Hora'] = pd.to_datetime(datos['Fecha / Hora'])\n",
    "\n",
    "datos.dtypes"
   ]
  },
  {
   "cell_type": "code",
   "execution_count": 8,
   "metadata": {},
   "outputs": [
    {
     "data": {
      "text/html": [
       "<div>\n",
       "<style scoped>\n",
       "    .dataframe tbody tr th:only-of-type {\n",
       "        vertical-align: middle;\n",
       "    }\n",
       "\n",
       "    .dataframe tbody tr th {\n",
       "        vertical-align: top;\n",
       "    }\n",
       "\n",
       "    .dataframe thead th {\n",
       "        text-align: right;\n",
       "    }\n",
       "</style>\n",
       "<table border=\"1\" class=\"dataframe\">\n",
       "  <thead>\n",
       "    <tr style=\"text-align: right;\">\n",
       "      <th></th>\n",
       "      <th>Fecha / Hora</th>\n",
       "      <th>Asunto</th>\n",
       "    </tr>\n",
       "  </thead>\n",
       "  <tbody>\n",
       "    <tr>\n",
       "      <th>0</th>\n",
       "      <td>2022-06-01 11:07:56+00:00</td>\n",
       "      <td>&lt;7569|20220601&gt; Shein - Control Horas</td>\n",
       "    </tr>\n",
       "    <tr>\n",
       "      <th>1</th>\n",
       "      <td>2022-06-01 11:25:34+00:00</td>\n",
       "      <td>&lt;7865|20220601&gt; Messer Consolidado Correos</td>\n",
       "    </tr>\n",
       "    <tr>\n",
       "      <th>2</th>\n",
       "      <td>2022-06-01 11:26:32+00:00</td>\n",
       "      <td>&lt;6886|20220601&gt; Messer Ocupación Agente</td>\n",
       "    </tr>\n",
       "    <tr>\n",
       "      <th>3</th>\n",
       "      <td>2022-06-01 11:30:51+00:00</td>\n",
       "      <td>&lt;6887|20220601&gt; Messer Niveles De Servicio</td>\n",
       "    </tr>\n",
       "    <tr>\n",
       "      <th>4</th>\n",
       "      <td>2022-06-01 11:33:21+00:00</td>\n",
       "      <td>&lt;6887|20220601&gt; Messer Niveles De Servicio Chile</td>\n",
       "    </tr>\n",
       "    <tr>\n",
       "      <th>5</th>\n",
       "      <td>2022-06-01 11:37:53+00:00</td>\n",
       "      <td>&lt;7776|20220601&gt; BBVA - BBVA EMPRESAS Recuperac...</td>\n",
       "    </tr>\n",
       "    <tr>\n",
       "      <th>6</th>\n",
       "      <td>2022-06-01 11:51:01+00:00</td>\n",
       "      <td>&lt;6885|20220601&gt; Messer 5/15</td>\n",
       "    </tr>\n",
       "    <tr>\n",
       "      <th>7</th>\n",
       "      <td>2022-06-01 12:00:26+00:00</td>\n",
       "      <td>&lt;7745|20220601&gt; Pichincha IVR</td>\n",
       "    </tr>\n",
       "    <tr>\n",
       "      <th>8</th>\n",
       "      <td>2022-06-01 12:00:30+00:00</td>\n",
       "      <td>&lt;6867|20220601&gt; Cruz Verde Informe Diario Juni...</td>\n",
       "    </tr>\n",
       "    <tr>\n",
       "      <th>9</th>\n",
       "      <td>2022-06-01 12:17:21+00:00</td>\n",
       "      <td>&lt;6867|20220601&gt; Cruz Verde Informe Diario Juni...</td>\n",
       "    </tr>\n",
       "  </tbody>\n",
       "</table>\n",
       "</div>"
      ],
      "text/plain": [
       "               Fecha / Hora                                             Asunto\n",
       "0 2022-06-01 11:07:56+00:00              <7569|20220601> Shein - Control Horas\n",
       "1 2022-06-01 11:25:34+00:00         <7865|20220601> Messer Consolidado Correos\n",
       "2 2022-06-01 11:26:32+00:00            <6886|20220601> Messer Ocupación Agente\n",
       "3 2022-06-01 11:30:51+00:00         <6887|20220601> Messer Niveles De Servicio\n",
       "4 2022-06-01 11:33:21+00:00   <6887|20220601> Messer Niveles De Servicio Chile\n",
       "5 2022-06-01 11:37:53+00:00  <7776|20220601> BBVA - BBVA EMPRESAS Recuperac...\n",
       "6 2022-06-01 11:51:01+00:00                        <6885|20220601> Messer 5/15\n",
       "7 2022-06-01 12:00:26+00:00                      <7745|20220601> Pichincha IVR\n",
       "8 2022-06-01 12:00:30+00:00  <6867|20220601> Cruz Verde Informe Diario Juni...\n",
       "9 2022-06-01 12:17:21+00:00  <6867|20220601> Cruz Verde Informe Diario Juni..."
      ]
     },
     "execution_count": 8,
     "metadata": {},
     "output_type": "execute_result"
    }
   ],
   "source": [
    "datos.head(10)"
   ]
  },
  {
   "cell_type": "markdown",
   "metadata": {},
   "source": [
    "## Identificar los ID."
   ]
  },
  {
   "cell_type": "code",
   "execution_count": 9,
   "metadata": {},
   "outputs": [
    {
     "data": {
      "text/html": [
       "<div>\n",
       "<style scoped>\n",
       "    .dataframe tbody tr th:only-of-type {\n",
       "        vertical-align: middle;\n",
       "    }\n",
       "\n",
       "    .dataframe tbody tr th {\n",
       "        vertical-align: top;\n",
       "    }\n",
       "\n",
       "    .dataframe thead th {\n",
       "        text-align: right;\n",
       "    }\n",
       "</style>\n",
       "<table border=\"1\" class=\"dataframe\">\n",
       "  <thead>\n",
       "    <tr style=\"text-align: right;\">\n",
       "      <th></th>\n",
       "      <th>Fecha / Hora</th>\n",
       "      <th>Asunto</th>\n",
       "      <th>ID</th>\n",
       "    </tr>\n",
       "  </thead>\n",
       "  <tbody>\n",
       "    <tr>\n",
       "      <th>495</th>\n",
       "      <td>2022-06-02 18:46:42+00:00</td>\n",
       "      <td>&lt;6621|20220602&gt; Ceet Penetración Combos Junio ...</td>\n",
       "      <td>6621</td>\n",
       "    </tr>\n",
       "    <tr>\n",
       "      <th>496</th>\n",
       "      <td>2022-06-02 19:00:09+00:00</td>\n",
       "      <td>&lt;7815|20220602&gt; ETB CD Reporte de Tiempos</td>\n",
       "      <td>7815</td>\n",
       "    </tr>\n",
       "    <tr>\n",
       "      <th>497</th>\n",
       "      <td>2022-06-02 19:03:38+00:00</td>\n",
       "      <td>&lt;8028|20220602&gt; Banmedica - Tablero de Control...</td>\n",
       "      <td>8028</td>\n",
       "    </tr>\n",
       "    <tr>\n",
       "      <th>498</th>\n",
       "      <td>2022-06-02 19:04:01+00:00</td>\n",
       "      <td>&lt;7835|20220602&gt; Sena - Redes Sociales</td>\n",
       "      <td>7835</td>\n",
       "    </tr>\n",
       "    <tr>\n",
       "      <th>499</th>\n",
       "      <td>2022-06-02 19:07:37+00:00</td>\n",
       "      <td>&lt;7748|20220602&gt; Liberty Informe Coomeva</td>\n",
       "      <td>7748</td>\n",
       "    </tr>\n",
       "    <tr>\n",
       "      <th>500</th>\n",
       "      <td>2022-06-02 19:12:39+00:00</td>\n",
       "      <td>&lt;7459|20220602&gt; BBVA - Reporte Irene Seguros</td>\n",
       "      <td>7459</td>\n",
       "    </tr>\n",
       "    <tr>\n",
       "      <th>501</th>\n",
       "      <td>2022-06-02 19:13:14+00:00</td>\n",
       "      <td>Informe Bo &lt;6532|20220602&gt;</td>\n",
       "      <td>6532</td>\n",
       "    </tr>\n",
       "    <tr>\n",
       "      <th>502</th>\n",
       "      <td>2022-06-02 19:28:54+00:00</td>\n",
       "      <td>&lt;|20220602&gt; Sena - Reporte de Satisfacción de ...</td>\n",
       "      <td>NaN</td>\n",
       "    </tr>\n",
       "    <tr>\n",
       "      <th>503</th>\n",
       "      <td>2022-06-02 19:30:40+00:00</td>\n",
       "      <td>&lt;7940|20220602&gt; Ceet Informe Ventas caídas - r...</td>\n",
       "      <td>7940</td>\n",
       "    </tr>\n",
       "    <tr>\n",
       "      <th>504</th>\n",
       "      <td>2022-06-02 19:31:13+00:00</td>\n",
       "      <td>RE: &lt;7459|20220602&gt; BBVA - Reporte Irene Seguros</td>\n",
       "      <td>7459</td>\n",
       "    </tr>\n",
       "  </tbody>\n",
       "</table>\n",
       "</div>"
      ],
      "text/plain": [
       "                 Fecha / Hora  \\\n",
       "495 2022-06-02 18:46:42+00:00   \n",
       "496 2022-06-02 19:00:09+00:00   \n",
       "497 2022-06-02 19:03:38+00:00   \n",
       "498 2022-06-02 19:04:01+00:00   \n",
       "499 2022-06-02 19:07:37+00:00   \n",
       "500 2022-06-02 19:12:39+00:00   \n",
       "501 2022-06-02 19:13:14+00:00   \n",
       "502 2022-06-02 19:28:54+00:00   \n",
       "503 2022-06-02 19:30:40+00:00   \n",
       "504 2022-06-02 19:31:13+00:00   \n",
       "\n",
       "                                                Asunto    ID  \n",
       "495  <6621|20220602> Ceet Penetración Combos Junio ...  6621  \n",
       "496          <7815|20220602> ETB CD Reporte de Tiempos  7815  \n",
       "497  <8028|20220602> Banmedica - Tablero de Control...  8028  \n",
       "498              <7835|20220602> Sena - Redes Sociales  7835  \n",
       "499            <7748|20220602> Liberty Informe Coomeva  7748  \n",
       "500       <7459|20220602> BBVA - Reporte Irene Seguros  7459  \n",
       "501                         Informe Bo <6532|20220602>  6532  \n",
       "502  <|20220602> Sena - Reporte de Satisfacción de ...   NaN  \n",
       "503  <7940|20220602> Ceet Informe Ventas caídas - r...  7940  \n",
       "504   RE: <7459|20220602> BBVA - Reporte Irene Seguros  7459  "
      ]
     },
     "execution_count": 9,
     "metadata": {},
     "output_type": "execute_result"
    }
   ],
   "source": [
    "datos['ID'] = datos['Asunto'].str.partition('|')[0].str.extract('(\\d{4})')\n",
    "datos[495:505]"
   ]
  },
  {
   "cell_type": "markdown",
   "metadata": {},
   "source": [
    "## Identificando los datos faltantes por ID."
   ]
  },
  {
   "cell_type": "code",
   "execution_count": 10,
   "metadata": {},
   "outputs": [
    {
     "data": {
      "text/plain": [
       "Fecha / Hora     0\n",
       "Asunto           0\n",
       "ID              37\n",
       "dtype: int64"
      ]
     },
     "execution_count": 10,
     "metadata": {},
     "output_type": "execute_result"
    }
   ],
   "source": [
    "datos_faltantes = datos.isnull().sum().sort_values(ascending=True)\n",
    "datos_faltantes"
   ]
  },
  {
   "cell_type": "markdown",
   "metadata": {},
   "source": [
    "## Eliminar fila de ID faltante."
   ]
  },
  {
   "cell_type": "code",
   "execution_count": 11,
   "metadata": {},
   "outputs": [],
   "source": [
    "\n",
    "# datos_faltantes = datos.isnull().sum().sort_values(ascending=True)\n",
    "# datos_faltantes\n",
    "datos = datos[~(datos['ID'].isnull())]"
   ]
  },
  {
   "cell_type": "markdown",
   "metadata": {},
   "source": [
    "## Porcentajes de ID faltantes"
   ]
  },
  {
   "cell_type": "code",
   "execution_count": 12,
   "metadata": {},
   "outputs": [
    {
     "name": "stdout",
     "output_type": "stream",
     "text": [
      "Fecha / Hora = 0.0\n",
      "Asunto = 0.0\n",
      "ID = 0.0\n"
     ]
    }
   ],
   "source": [
    "for column in datos.columns:\n",
    "    porcentaje_faltantes = datos[column].isnull().mean()\n",
    "    print(column, '=', round(porcentaje_faltantes*100,2))"
   ]
  },
  {
   "cell_type": "markdown",
   "metadata": {},
   "source": [
    "## Extraer comentario."
   ]
  },
  {
   "cell_type": "code",
   "execution_count": 13,
   "metadata": {},
   "outputs": [],
   "source": [
    "# extraer_comentario = lambda x: \"\".join(re.findall(\"[a-z A-Z]\",str(x).strip()))\n",
    "\n",
    "extraer_comentario = lambda x: re.sub(\"\\<.*?\\>\",\"\",x)\n",
    "datos['Comentario'] = datos['Asunto'].apply(extraer_comentario).str.strip()"
   ]
  },
  {
   "cell_type": "markdown",
   "metadata": {},
   "source": [
    "## Eliminamos la columna 'Asunto'."
   ]
  },
  {
   "cell_type": "code",
   "execution_count": 14,
   "metadata": {},
   "outputs": [
    {
     "data": {
      "text/html": [
       "<div>\n",
       "<style scoped>\n",
       "    .dataframe tbody tr th:only-of-type {\n",
       "        vertical-align: middle;\n",
       "    }\n",
       "\n",
       "    .dataframe tbody tr th {\n",
       "        vertical-align: top;\n",
       "    }\n",
       "\n",
       "    .dataframe thead th {\n",
       "        text-align: right;\n",
       "    }\n",
       "</style>\n",
       "<table border=\"1\" class=\"dataframe\">\n",
       "  <thead>\n",
       "    <tr style=\"text-align: right;\">\n",
       "      <th></th>\n",
       "      <th>Fecha / Hora</th>\n",
       "      <th>ID</th>\n",
       "      <th>Comentario</th>\n",
       "    </tr>\n",
       "  </thead>\n",
       "  <tbody>\n",
       "    <tr>\n",
       "      <th>0</th>\n",
       "      <td>2022-06-01 11:07:56+00:00</td>\n",
       "      <td>7569</td>\n",
       "      <td>Shein - Control Horas</td>\n",
       "    </tr>\n",
       "    <tr>\n",
       "      <th>1</th>\n",
       "      <td>2022-06-01 11:25:34+00:00</td>\n",
       "      <td>7865</td>\n",
       "      <td>Messer Consolidado Correos</td>\n",
       "    </tr>\n",
       "    <tr>\n",
       "      <th>2</th>\n",
       "      <td>2022-06-01 11:26:32+00:00</td>\n",
       "      <td>6886</td>\n",
       "      <td>Messer Ocupación Agente</td>\n",
       "    </tr>\n",
       "    <tr>\n",
       "      <th>3</th>\n",
       "      <td>2022-06-01 11:30:51+00:00</td>\n",
       "      <td>6887</td>\n",
       "      <td>Messer Niveles De Servicio</td>\n",
       "    </tr>\n",
       "    <tr>\n",
       "      <th>4</th>\n",
       "      <td>2022-06-01 11:33:21+00:00</td>\n",
       "      <td>6887</td>\n",
       "      <td>Messer Niveles De Servicio Chile</td>\n",
       "    </tr>\n",
       "    <tr>\n",
       "      <th>...</th>\n",
       "      <td>...</td>\n",
       "      <td>...</td>\n",
       "      <td>...</td>\n",
       "    </tr>\n",
       "    <tr>\n",
       "      <th>5378</th>\n",
       "      <td>2022-06-30 20:00:10+00:00</td>\n",
       "      <td>7408</td>\n",
       "      <td>BBVA - Reporte Tipificación Outbound</td>\n",
       "    </tr>\n",
       "    <tr>\n",
       "      <th>5379</th>\n",
       "      <td>2022-06-30 20:00:46+00:00</td>\n",
       "      <td>8061</td>\n",
       "      <td>Cruz Verde Tablero De Control Unificado Junio ...</td>\n",
       "    </tr>\n",
       "    <tr>\n",
       "      <th>5380</th>\n",
       "      <td>2022-06-30 20:01:10+00:00</td>\n",
       "      <td>6874</td>\n",
       "      <td>Cruz Verde Actualización Kpi's Junio 20220629</td>\n",
       "    </tr>\n",
       "    <tr>\n",
       "      <th>5381</th>\n",
       "      <td>2022-06-30 20:01:21+00:00</td>\n",
       "      <td>7689</td>\n",
       "      <td>Medicarte Tablero De Control Junio 20220629</td>\n",
       "    </tr>\n",
       "    <tr>\n",
       "      <th>5382</th>\n",
       "      <td>2022-06-30 20:01:28+00:00</td>\n",
       "      <td>6254</td>\n",
       "      <td>Ceet - Resumen Retenciones</td>\n",
       "    </tr>\n",
       "  </tbody>\n",
       "</table>\n",
       "<p>5346 rows × 3 columns</p>\n",
       "</div>"
      ],
      "text/plain": [
       "                  Fecha / Hora    ID  \\\n",
       "0    2022-06-01 11:07:56+00:00  7569   \n",
       "1    2022-06-01 11:25:34+00:00  7865   \n",
       "2    2022-06-01 11:26:32+00:00  6886   \n",
       "3    2022-06-01 11:30:51+00:00  6887   \n",
       "4    2022-06-01 11:33:21+00:00  6887   \n",
       "...                        ...   ...   \n",
       "5378 2022-06-30 20:00:10+00:00  7408   \n",
       "5379 2022-06-30 20:00:46+00:00  8061   \n",
       "5380 2022-06-30 20:01:10+00:00  6874   \n",
       "5381 2022-06-30 20:01:21+00:00  7689   \n",
       "5382 2022-06-30 20:01:28+00:00  6254   \n",
       "\n",
       "                                             Comentario  \n",
       "0                                 Shein - Control Horas  \n",
       "1                            Messer Consolidado Correos  \n",
       "2                               Messer Ocupación Agente  \n",
       "3                            Messer Niveles De Servicio  \n",
       "4                      Messer Niveles De Servicio Chile  \n",
       "...                                                 ...  \n",
       "5378               BBVA - Reporte Tipificación Outbound  \n",
       "5379  Cruz Verde Tablero De Control Unificado Junio ...  \n",
       "5380      Cruz Verde Actualización Kpi's Junio 20220629  \n",
       "5381        Medicarte Tablero De Control Junio 20220629  \n",
       "5382                         Ceet - Resumen Retenciones  \n",
       "\n",
       "[5346 rows x 3 columns]"
      ]
     },
     "execution_count": 14,
     "metadata": {},
     "output_type": "execute_result"
    }
   ],
   "source": [
    "# datos = datos.drop(datos.columns[[1]], axis=1)\n",
    "datos = datos.drop(columns=['Asunto'])\n",
    "datos.to_csv('DatosLimpios.csv')\n",
    "datos"
   ]
  },
  {
   "cell_type": "code",
   "execution_count": 15,
   "metadata": {},
   "outputs": [
    {
     "data": {
      "text/html": [
       "<div>\n",
       "<style scoped>\n",
       "    .dataframe tbody tr th:only-of-type {\n",
       "        vertical-align: middle;\n",
       "    }\n",
       "\n",
       "    .dataframe tbody tr th {\n",
       "        vertical-align: top;\n",
       "    }\n",
       "\n",
       "    .dataframe thead th {\n",
       "        text-align: right;\n",
       "    }\n",
       "</style>\n",
       "<table border=\"1\" class=\"dataframe\">\n",
       "  <thead>\n",
       "    <tr style=\"text-align: right;\">\n",
       "      <th></th>\n",
       "      <th>Fecha / Hora</th>\n",
       "      <th>ID</th>\n",
       "      <th>Comentario</th>\n",
       "    </tr>\n",
       "  </thead>\n",
       "  <tbody>\n",
       "    <tr>\n",
       "      <th>0</th>\n",
       "      <td>2022-06-01 11:07:56+00:00</td>\n",
       "      <td>7569</td>\n",
       "      <td>Shein - Control Horas</td>\n",
       "    </tr>\n",
       "    <tr>\n",
       "      <th>1</th>\n",
       "      <td>2022-06-01 11:25:34+00:00</td>\n",
       "      <td>7865</td>\n",
       "      <td>Messer Consolidado Correos</td>\n",
       "    </tr>\n",
       "    <tr>\n",
       "      <th>2</th>\n",
       "      <td>2022-06-01 11:26:32+00:00</td>\n",
       "      <td>6886</td>\n",
       "      <td>Messer Ocupación Agente</td>\n",
       "    </tr>\n",
       "    <tr>\n",
       "      <th>3</th>\n",
       "      <td>2022-06-01 11:30:51+00:00</td>\n",
       "      <td>6887</td>\n",
       "      <td>Messer Niveles De Servicio</td>\n",
       "    </tr>\n",
       "    <tr>\n",
       "      <th>4</th>\n",
       "      <td>2022-06-01 11:33:21+00:00</td>\n",
       "      <td>6887</td>\n",
       "      <td>Messer Niveles De Servicio Chile</td>\n",
       "    </tr>\n",
       "    <tr>\n",
       "      <th>...</th>\n",
       "      <td>...</td>\n",
       "      <td>...</td>\n",
       "      <td>...</td>\n",
       "    </tr>\n",
       "    <tr>\n",
       "      <th>5378</th>\n",
       "      <td>2022-06-30 20:00:10+00:00</td>\n",
       "      <td>7408</td>\n",
       "      <td>BBVA - Reporte Tipificación Outbound</td>\n",
       "    </tr>\n",
       "    <tr>\n",
       "      <th>5379</th>\n",
       "      <td>2022-06-30 20:00:46+00:00</td>\n",
       "      <td>8061</td>\n",
       "      <td>Cruz Verde Tablero De Control Unificado Junio ...</td>\n",
       "    </tr>\n",
       "    <tr>\n",
       "      <th>5380</th>\n",
       "      <td>2022-06-30 20:01:10+00:00</td>\n",
       "      <td>6874</td>\n",
       "      <td>Cruz Verde Actualización Kpi's Junio 20220629</td>\n",
       "    </tr>\n",
       "    <tr>\n",
       "      <th>5381</th>\n",
       "      <td>2022-06-30 20:01:21+00:00</td>\n",
       "      <td>7689</td>\n",
       "      <td>Medicarte Tablero De Control Junio 20220629</td>\n",
       "    </tr>\n",
       "    <tr>\n",
       "      <th>5382</th>\n",
       "      <td>2022-06-30 20:01:28+00:00</td>\n",
       "      <td>6254</td>\n",
       "      <td>Ceet - Resumen Retenciones</td>\n",
       "    </tr>\n",
       "  </tbody>\n",
       "</table>\n",
       "<p>5346 rows × 3 columns</p>\n",
       "</div>"
      ],
      "text/plain": [
       "                  Fecha / Hora    ID  \\\n",
       "0    2022-06-01 11:07:56+00:00  7569   \n",
       "1    2022-06-01 11:25:34+00:00  7865   \n",
       "2    2022-06-01 11:26:32+00:00  6886   \n",
       "3    2022-06-01 11:30:51+00:00  6887   \n",
       "4    2022-06-01 11:33:21+00:00  6887   \n",
       "...                        ...   ...   \n",
       "5378 2022-06-30 20:00:10+00:00  7408   \n",
       "5379 2022-06-30 20:00:46+00:00  8061   \n",
       "5380 2022-06-30 20:01:10+00:00  6874   \n",
       "5381 2022-06-30 20:01:21+00:00  7689   \n",
       "5382 2022-06-30 20:01:28+00:00  6254   \n",
       "\n",
       "                                             Comentario  \n",
       "0                                 Shein - Control Horas  \n",
       "1                            Messer Consolidado Correos  \n",
       "2                               Messer Ocupación Agente  \n",
       "3                            Messer Niveles De Servicio  \n",
       "4                      Messer Niveles De Servicio Chile  \n",
       "...                                                 ...  \n",
       "5378               BBVA - Reporte Tipificación Outbound  \n",
       "5379  Cruz Verde Tablero De Control Unificado Junio ...  \n",
       "5380      Cruz Verde Actualización Kpi's Junio 20220629  \n",
       "5381        Medicarte Tablero De Control Junio 20220629  \n",
       "5382                         Ceet - Resumen Retenciones  \n",
       "\n",
       "[5346 rows x 3 columns]"
      ]
     },
     "execution_count": 15,
     "metadata": {},
     "output_type": "execute_result"
    }
   ],
   "source": [
    "#datos = datos.set_index('ID')\n",
    "datos"
   ]
  },
  {
   "cell_type": "markdown",
   "metadata": {},
   "source": [
    "## Eliminamos los ID duplicados."
   ]
  },
  {
   "cell_type": "code",
   "execution_count": 16,
   "metadata": {},
   "outputs": [
    {
     "data": {
      "text/html": [
       "<div>\n",
       "<style scoped>\n",
       "    .dataframe tbody tr th:only-of-type {\n",
       "        vertical-align: middle;\n",
       "    }\n",
       "\n",
       "    .dataframe tbody tr th {\n",
       "        vertical-align: top;\n",
       "    }\n",
       "\n",
       "    .dataframe thead th {\n",
       "        text-align: right;\n",
       "    }\n",
       "</style>\n",
       "<table border=\"1\" class=\"dataframe\">\n",
       "  <thead>\n",
       "    <tr style=\"text-align: right;\">\n",
       "      <th></th>\n",
       "      <th>Fecha / Hora</th>\n",
       "      <th>ID</th>\n",
       "      <th>Comentario</th>\n",
       "    </tr>\n",
       "  </thead>\n",
       "  <tbody>\n",
       "    <tr>\n",
       "      <th>497</th>\n",
       "      <td>2022-06-02 19:03:38+00:00</td>\n",
       "      <td>8028</td>\n",
       "      <td>Banmedica - Tablero de Control Banmédica Mayo</td>\n",
       "    </tr>\n",
       "    <tr>\n",
       "      <th>498</th>\n",
       "      <td>2022-06-02 19:04:01+00:00</td>\n",
       "      <td>7835</td>\n",
       "      <td>Sena - Redes Sociales</td>\n",
       "    </tr>\n",
       "    <tr>\n",
       "      <th>499</th>\n",
       "      <td>2022-06-02 19:07:37+00:00</td>\n",
       "      <td>7748</td>\n",
       "      <td>Liberty Informe Coomeva</td>\n",
       "    </tr>\n",
       "    <tr>\n",
       "      <th>500</th>\n",
       "      <td>2022-06-02 19:12:39+00:00</td>\n",
       "      <td>7459</td>\n",
       "      <td>BBVA - Reporte Irene Seguros</td>\n",
       "    </tr>\n",
       "    <tr>\n",
       "      <th>501</th>\n",
       "      <td>2022-06-02 19:13:14+00:00</td>\n",
       "      <td>6532</td>\n",
       "      <td>Informe Bo</td>\n",
       "    </tr>\n",
       "    <tr>\n",
       "      <th>503</th>\n",
       "      <td>2022-06-02 19:30:40+00:00</td>\n",
       "      <td>7940</td>\n",
       "      <td>Ceet Informe Ventas caídas - recuperadas</td>\n",
       "    </tr>\n",
       "    <tr>\n",
       "      <th>504</th>\n",
       "      <td>2022-06-02 19:31:13+00:00</td>\n",
       "      <td>7459</td>\n",
       "      <td>RE:  BBVA - Reporte Irene Seguros</td>\n",
       "    </tr>\n",
       "    <tr>\n",
       "      <th>505</th>\n",
       "      <td>2022-06-02 19:32:48+00:00</td>\n",
       "      <td>7836</td>\n",
       "      <td>Sena - Transcript Chat</td>\n",
       "    </tr>\n",
       "    <tr>\n",
       "      <th>506</th>\n",
       "      <td>2022-06-02 19:34:26+00:00</td>\n",
       "      <td>7562</td>\n",
       "      <td>Ceet - Ausentismos Suscripciones</td>\n",
       "    </tr>\n",
       "    <tr>\n",
       "      <th>507</th>\n",
       "      <td>2022-06-02 19:42:14+00:00</td>\n",
       "      <td>7714</td>\n",
       "      <td>Publicacion Simple Codigos Detallados</td>\n",
       "    </tr>\n",
       "  </tbody>\n",
       "</table>\n",
       "</div>"
      ],
      "text/plain": [
       "                 Fecha / Hora    ID  \\\n",
       "497 2022-06-02 19:03:38+00:00  8028   \n",
       "498 2022-06-02 19:04:01+00:00  7835   \n",
       "499 2022-06-02 19:07:37+00:00  7748   \n",
       "500 2022-06-02 19:12:39+00:00  7459   \n",
       "501 2022-06-02 19:13:14+00:00  6532   \n",
       "503 2022-06-02 19:30:40+00:00  7940   \n",
       "504 2022-06-02 19:31:13+00:00  7459   \n",
       "505 2022-06-02 19:32:48+00:00  7836   \n",
       "506 2022-06-02 19:34:26+00:00  7562   \n",
       "507 2022-06-02 19:42:14+00:00  7714   \n",
       "\n",
       "                                        Comentario  \n",
       "497  Banmedica - Tablero de Control Banmédica Mayo  \n",
       "498                          Sena - Redes Sociales  \n",
       "499                        Liberty Informe Coomeva  \n",
       "500                   BBVA - Reporte Irene Seguros  \n",
       "501                                     Informe Bo  \n",
       "503       Ceet Informe Ventas caídas - recuperadas  \n",
       "504              RE:  BBVA - Reporte Irene Seguros  \n",
       "505                         Sena - Transcript Chat  \n",
       "506               Ceet - Ausentismos Suscripciones  \n",
       "507          Publicacion Simple Codigos Detallados  "
      ]
     },
     "execution_count": 16,
     "metadata": {},
     "output_type": "execute_result"
    }
   ],
   "source": [
    "datos.drop_duplicates()\n",
    "datos[495:505]"
   ]
  }
 ],
 "metadata": {
  "kernelspec": {
   "display_name": "Python 3.10.7 64-bit",
   "language": "python",
   "name": "python3"
  },
  "language_info": {
   "codemirror_mode": {
    "name": "ipython",
    "version": 3
   },
   "file_extension": ".py",
   "mimetype": "text/x-python",
   "name": "python",
   "nbconvert_exporter": "python",
   "pygments_lexer": "ipython3",
   "version": "3.10.7"
  },
  "orig_nbformat": 4,
  "vscode": {
   "interpreter": {
    "hash": "e7370f93d1d0cde622a1f8e1c04877d8463912d04d973331ad4851f04de6915a"
   }
  }
 },
 "nbformat": 4,
 "nbformat_minor": 2
}

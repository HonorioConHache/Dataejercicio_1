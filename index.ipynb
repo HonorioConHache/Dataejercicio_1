{
 "cells": [
  {
   "cell_type": "markdown",
   "metadata": {},
   "source": [
    "## Librerias."
   ]
  },
  {
   "cell_type": "code",
   "execution_count": 100,
   "metadata": {},
   "outputs": [],
   "source": [
    "import pandas as pd\n",
    "import numpy as np\n",
    "from datetime import datetime, timedelta\n",
    "import re"
   ]
  },
  {
   "cell_type": "markdown",
   "metadata": {},
   "source": [
    "## Carga de datos"
   ]
  },
  {
   "cell_type": "code",
   "execution_count": 101,
   "metadata": {},
   "outputs": [
    {
     "data": {
      "text/html": [
       "<div>\n",
       "<style scoped>\n",
       "    .dataframe tbody tr th:only-of-type {\n",
       "        vertical-align: middle;\n",
       "    }\n",
       "\n",
       "    .dataframe tbody tr th {\n",
       "        vertical-align: top;\n",
       "    }\n",
       "\n",
       "    .dataframe thead th {\n",
       "        text-align: right;\n",
       "    }\n",
       "</style>\n",
       "<table border=\"1\" class=\"dataframe\">\n",
       "  <thead>\n",
       "    <tr style=\"text-align: right;\">\n",
       "      <th></th>\n",
       "      <th>Fecha / Hora</th>\n",
       "      <th>Asunto</th>\n",
       "    </tr>\n",
       "  </thead>\n",
       "  <tbody>\n",
       "    <tr>\n",
       "      <th>0</th>\n",
       "      <td>2022-06-01T11:07:56+00:00</td>\n",
       "      <td>&lt;7569|20220601&gt; Shein - Control Horas</td>\n",
       "    </tr>\n",
       "    <tr>\n",
       "      <th>1</th>\n",
       "      <td>2022-06-01T11:25:34+00:00</td>\n",
       "      <td>&lt;7865|20220601&gt; Messer Consolidado Correos</td>\n",
       "    </tr>\n",
       "    <tr>\n",
       "      <th>2</th>\n",
       "      <td>2022-06-01T11:26:32+00:00</td>\n",
       "      <td>&lt;6886|20220601&gt; Messer Ocupación Agente</td>\n",
       "    </tr>\n",
       "    <tr>\n",
       "      <th>3</th>\n",
       "      <td>2022-06-01T11:30:51+00:00</td>\n",
       "      <td>&lt;6887|20220601&gt; Messer Niveles De Servicio</td>\n",
       "    </tr>\n",
       "    <tr>\n",
       "      <th>4</th>\n",
       "      <td>2022-06-01T11:33:21+00:00</td>\n",
       "      <td>&lt;6887|20220601&gt; Messer Niveles De Servicio Chile</td>\n",
       "    </tr>\n",
       "    <tr>\n",
       "      <th>5</th>\n",
       "      <td>2022-06-01T11:37:53+00:00</td>\n",
       "      <td>&lt;7776|20220601&gt; BBVA - BBVA EMPRESAS Recuperac...</td>\n",
       "    </tr>\n",
       "    <tr>\n",
       "      <th>6</th>\n",
       "      <td>2022-06-01T11:51:01+00:00</td>\n",
       "      <td>&lt;6885|20220601&gt; Messer 5/15</td>\n",
       "    </tr>\n",
       "    <tr>\n",
       "      <th>7</th>\n",
       "      <td>2022-06-01T12:00:26+00:00</td>\n",
       "      <td>&lt;7745|20220601&gt; Pichincha IVR</td>\n",
       "    </tr>\n",
       "    <tr>\n",
       "      <th>8</th>\n",
       "      <td>2022-06-01T12:00:30+00:00</td>\n",
       "      <td>&lt;6867|20220601&gt; Cruz Verde Informe Diario Juni...</td>\n",
       "    </tr>\n",
       "    <tr>\n",
       "      <th>9</th>\n",
       "      <td>2022-06-01T12:17:21+00:00</td>\n",
       "      <td>&lt;6867|20220601&gt; Cruz Verde Informe Diario Juni...</td>\n",
       "    </tr>\n",
       "  </tbody>\n",
       "</table>\n",
       "</div>"
      ],
      "text/plain": [
       "                Fecha / Hora  \\\n",
       "0  2022-06-01T11:07:56+00:00   \n",
       "1  2022-06-01T11:25:34+00:00   \n",
       "2  2022-06-01T11:26:32+00:00   \n",
       "3  2022-06-01T11:30:51+00:00   \n",
       "4  2022-06-01T11:33:21+00:00   \n",
       "5  2022-06-01T11:37:53+00:00   \n",
       "6  2022-06-01T11:51:01+00:00   \n",
       "7  2022-06-01T12:00:26+00:00   \n",
       "8  2022-06-01T12:00:30+00:00   \n",
       "9  2022-06-01T12:17:21+00:00   \n",
       "\n",
       "                                              Asunto  \n",
       "0              <7569|20220601> Shein - Control Horas  \n",
       "1         <7865|20220601> Messer Consolidado Correos  \n",
       "2            <6886|20220601> Messer Ocupación Agente  \n",
       "3         <6887|20220601> Messer Niveles De Servicio  \n",
       "4   <6887|20220601> Messer Niveles De Servicio Chile  \n",
       "5  <7776|20220601> BBVA - BBVA EMPRESAS Recuperac...  \n",
       "6                        <6885|20220601> Messer 5/15  \n",
       "7                      <7745|20220601> Pichincha IVR  \n",
       "8  <6867|20220601> Cruz Verde Informe Diario Juni...  \n",
       "9  <6867|20220601> Cruz Verde Informe Diario Juni...  "
      ]
     },
     "execution_count": 101,
     "metadata": {},
     "output_type": "execute_result"
    }
   ],
   "source": [
    "data_origin = pd.read_excel('Puntualidad Bogotá.xlsx')\n",
    "datos = data_origin.copy()\n",
    "datos.head(10)\n",
    "\n",
    "#datos = datos[:100]"
   ]
  },
  {
   "cell_type": "markdown",
   "metadata": {},
   "source": [
    "## Tipos de datos."
   ]
  },
  {
   "cell_type": "code",
   "execution_count": 102,
   "metadata": {},
   "outputs": [
    {
     "data": {
      "text/plain": [
       "Fecha / Hora    object\n",
       "Asunto          object\n",
       "dtype: object"
      ]
     },
     "execution_count": 102,
     "metadata": {},
     "output_type": "execute_result"
    }
   ],
   "source": [
    "datos.dtypes"
   ]
  },
  {
   "cell_type": "markdown",
   "metadata": {},
   "source": [
    "## Dimenciones del dataframe."
   ]
  },
  {
   "cell_type": "code",
   "execution_count": 103,
   "metadata": {},
   "outputs": [
    {
     "data": {
      "text/plain": [
       "(5383, 2)"
      ]
     },
     "execution_count": 103,
     "metadata": {},
     "output_type": "execute_result"
    }
   ],
   "source": [
    "datos.shape"
   ]
  },
  {
   "cell_type": "markdown",
   "metadata": {},
   "source": [
    "## Datos faltantes."
   ]
  },
  {
   "cell_type": "code",
   "execution_count": 104,
   "metadata": {},
   "outputs": [
    {
     "data": {
      "text/plain": [
       "Fecha / Hora    0\n",
       "Asunto          0\n",
       "dtype: int64"
      ]
     },
     "execution_count": 104,
     "metadata": {},
     "output_type": "execute_result"
    }
   ],
   "source": [
    "datos_faltantes = datos.isnull().sum().sort_values(ascending=True)\n",
    "datos_faltantes"
   ]
  },
  {
   "cell_type": "markdown",
   "metadata": {},
   "source": [
    "## Porcentajes de datos faltantes por columna."
   ]
  },
  {
   "cell_type": "code",
   "execution_count": 105,
   "metadata": {},
   "outputs": [
    {
     "name": "stdout",
     "output_type": "stream",
     "text": [
      "Fecha / Hora = 0.0\n",
      "Asunto = 0.0\n"
     ]
    }
   ],
   "source": [
    "for column in datos.columns:\n",
    "    porcentaje_faltantes = datos[column].isnull().mean()\n",
    "    print(column, '=', round(porcentaje_faltantes*100,2))"
   ]
  },
  {
   "cell_type": "markdown",
   "metadata": {},
   "source": [
    "## Convertir columna tipo object a datetime64 en una nueva columna."
   ]
  },
  {
   "cell_type": "code",
   "execution_count": 106,
   "metadata": {},
   "outputs": [
    {
     "data": {
      "text/plain": [
       "Fecha / Hora    datetime64[ns, UTC]\n",
       "Asunto                       object\n",
       "dtype: object"
      ]
     },
     "execution_count": 106,
     "metadata": {},
     "output_type": "execute_result"
    }
   ],
   "source": [
    "datos['Fecha / Hora'] = pd.to_datetime(datos['Fecha / Hora'])\n",
    "\n",
    "datos.dtypes"
   ]
  },
  {
   "cell_type": "code",
   "execution_count": 107,
   "metadata": {},
   "outputs": [
    {
     "data": {
      "text/html": [
       "<div>\n",
       "<style scoped>\n",
       "    .dataframe tbody tr th:only-of-type {\n",
       "        vertical-align: middle;\n",
       "    }\n",
       "\n",
       "    .dataframe tbody tr th {\n",
       "        vertical-align: top;\n",
       "    }\n",
       "\n",
       "    .dataframe thead th {\n",
       "        text-align: right;\n",
       "    }\n",
       "</style>\n",
       "<table border=\"1\" class=\"dataframe\">\n",
       "  <thead>\n",
       "    <tr style=\"text-align: right;\">\n",
       "      <th></th>\n",
       "      <th>Fecha / Hora</th>\n",
       "      <th>Asunto</th>\n",
       "    </tr>\n",
       "  </thead>\n",
       "  <tbody>\n",
       "    <tr>\n",
       "      <th>0</th>\n",
       "      <td>2022-06-01 11:07:56+00:00</td>\n",
       "      <td>&lt;7569|20220601&gt; Shein - Control Horas</td>\n",
       "    </tr>\n",
       "    <tr>\n",
       "      <th>1</th>\n",
       "      <td>2022-06-01 11:25:34+00:00</td>\n",
       "      <td>&lt;7865|20220601&gt; Messer Consolidado Correos</td>\n",
       "    </tr>\n",
       "    <tr>\n",
       "      <th>2</th>\n",
       "      <td>2022-06-01 11:26:32+00:00</td>\n",
       "      <td>&lt;6886|20220601&gt; Messer Ocupación Agente</td>\n",
       "    </tr>\n",
       "    <tr>\n",
       "      <th>3</th>\n",
       "      <td>2022-06-01 11:30:51+00:00</td>\n",
       "      <td>&lt;6887|20220601&gt; Messer Niveles De Servicio</td>\n",
       "    </tr>\n",
       "    <tr>\n",
       "      <th>4</th>\n",
       "      <td>2022-06-01 11:33:21+00:00</td>\n",
       "      <td>&lt;6887|20220601&gt; Messer Niveles De Servicio Chile</td>\n",
       "    </tr>\n",
       "    <tr>\n",
       "      <th>5</th>\n",
       "      <td>2022-06-01 11:37:53+00:00</td>\n",
       "      <td>&lt;7776|20220601&gt; BBVA - BBVA EMPRESAS Recuperac...</td>\n",
       "    </tr>\n",
       "    <tr>\n",
       "      <th>6</th>\n",
       "      <td>2022-06-01 11:51:01+00:00</td>\n",
       "      <td>&lt;6885|20220601&gt; Messer 5/15</td>\n",
       "    </tr>\n",
       "    <tr>\n",
       "      <th>7</th>\n",
       "      <td>2022-06-01 12:00:26+00:00</td>\n",
       "      <td>&lt;7745|20220601&gt; Pichincha IVR</td>\n",
       "    </tr>\n",
       "    <tr>\n",
       "      <th>8</th>\n",
       "      <td>2022-06-01 12:00:30+00:00</td>\n",
       "      <td>&lt;6867|20220601&gt; Cruz Verde Informe Diario Juni...</td>\n",
       "    </tr>\n",
       "    <tr>\n",
       "      <th>9</th>\n",
       "      <td>2022-06-01 12:17:21+00:00</td>\n",
       "      <td>&lt;6867|20220601&gt; Cruz Verde Informe Diario Juni...</td>\n",
       "    </tr>\n",
       "  </tbody>\n",
       "</table>\n",
       "</div>"
      ],
      "text/plain": [
       "               Fecha / Hora                                             Asunto\n",
       "0 2022-06-01 11:07:56+00:00              <7569|20220601> Shein - Control Horas\n",
       "1 2022-06-01 11:25:34+00:00         <7865|20220601> Messer Consolidado Correos\n",
       "2 2022-06-01 11:26:32+00:00            <6886|20220601> Messer Ocupación Agente\n",
       "3 2022-06-01 11:30:51+00:00         <6887|20220601> Messer Niveles De Servicio\n",
       "4 2022-06-01 11:33:21+00:00   <6887|20220601> Messer Niveles De Servicio Chile\n",
       "5 2022-06-01 11:37:53+00:00  <7776|20220601> BBVA - BBVA EMPRESAS Recuperac...\n",
       "6 2022-06-01 11:51:01+00:00                        <6885|20220601> Messer 5/15\n",
       "7 2022-06-01 12:00:26+00:00                      <7745|20220601> Pichincha IVR\n",
       "8 2022-06-01 12:00:30+00:00  <6867|20220601> Cruz Verde Informe Diario Juni...\n",
       "9 2022-06-01 12:17:21+00:00  <6867|20220601> Cruz Verde Informe Diario Juni..."
      ]
     },
     "execution_count": 107,
     "metadata": {},
     "output_type": "execute_result"
    }
   ],
   "source": [
    "datos.head(10)"
   ]
  },
  {
   "cell_type": "markdown",
   "metadata": {},
   "source": [
    "## Identificar los ID."
   ]
  },
  {
   "cell_type": "code",
   "execution_count": 108,
   "metadata": {},
   "outputs": [
    {
     "data": {
      "text/html": [
       "<div>\n",
       "<style scoped>\n",
       "    .dataframe tbody tr th:only-of-type {\n",
       "        vertical-align: middle;\n",
       "    }\n",
       "\n",
       "    .dataframe tbody tr th {\n",
       "        vertical-align: top;\n",
       "    }\n",
       "\n",
       "    .dataframe thead th {\n",
       "        text-align: right;\n",
       "    }\n",
       "</style>\n",
       "<table border=\"1\" class=\"dataframe\">\n",
       "  <thead>\n",
       "    <tr style=\"text-align: right;\">\n",
       "      <th></th>\n",
       "      <th>Fecha / Hora</th>\n",
       "      <th>Asunto</th>\n",
       "      <th>ID</th>\n",
       "    </tr>\n",
       "  </thead>\n",
       "  <tbody>\n",
       "    <tr>\n",
       "      <th>0</th>\n",
       "      <td>2022-06-01 11:07:56+00:00</td>\n",
       "      <td>&lt;7569|20220601&gt; Shein - Control Horas</td>\n",
       "      <td>7569</td>\n",
       "    </tr>\n",
       "    <tr>\n",
       "      <th>1</th>\n",
       "      <td>2022-06-01 11:25:34+00:00</td>\n",
       "      <td>&lt;7865|20220601&gt; Messer Consolidado Correos</td>\n",
       "      <td>7865</td>\n",
       "    </tr>\n",
       "    <tr>\n",
       "      <th>2</th>\n",
       "      <td>2022-06-01 11:26:32+00:00</td>\n",
       "      <td>&lt;6886|20220601&gt; Messer Ocupación Agente</td>\n",
       "      <td>6886</td>\n",
       "    </tr>\n",
       "    <tr>\n",
       "      <th>3</th>\n",
       "      <td>2022-06-01 11:30:51+00:00</td>\n",
       "      <td>&lt;6887|20220601&gt; Messer Niveles De Servicio</td>\n",
       "      <td>6887</td>\n",
       "    </tr>\n",
       "    <tr>\n",
       "      <th>4</th>\n",
       "      <td>2022-06-01 11:33:21+00:00</td>\n",
       "      <td>&lt;6887|20220601&gt; Messer Niveles De Servicio Chile</td>\n",
       "      <td>6887</td>\n",
       "    </tr>\n",
       "    <tr>\n",
       "      <th>...</th>\n",
       "      <td>...</td>\n",
       "      <td>...</td>\n",
       "      <td>...</td>\n",
       "    </tr>\n",
       "    <tr>\n",
       "      <th>5378</th>\n",
       "      <td>2022-06-30 20:00:10+00:00</td>\n",
       "      <td>&lt;7408|20220630&gt; BBVA - Reporte Tipificación Ou...</td>\n",
       "      <td>7408</td>\n",
       "    </tr>\n",
       "    <tr>\n",
       "      <th>5379</th>\n",
       "      <td>2022-06-30 20:00:46+00:00</td>\n",
       "      <td>&lt;8061|20220630&gt; Cruz Verde Tablero De Control ...</td>\n",
       "      <td>8061</td>\n",
       "    </tr>\n",
       "    <tr>\n",
       "      <th>5380</th>\n",
       "      <td>2022-06-30 20:01:10+00:00</td>\n",
       "      <td>&lt;6874|20220630&gt; Cruz Verde Actualización Kpi's...</td>\n",
       "      <td>6874</td>\n",
       "    </tr>\n",
       "    <tr>\n",
       "      <th>5381</th>\n",
       "      <td>2022-06-30 20:01:21+00:00</td>\n",
       "      <td>&lt;7689|20220630&gt; Medicarte Tablero De Control J...</td>\n",
       "      <td>7689</td>\n",
       "    </tr>\n",
       "    <tr>\n",
       "      <th>5382</th>\n",
       "      <td>2022-06-30 20:01:28+00:00</td>\n",
       "      <td>&lt;6254|20220630&gt; Ceet - Resumen Retenciones</td>\n",
       "      <td>6254</td>\n",
       "    </tr>\n",
       "  </tbody>\n",
       "</table>\n",
       "<p>5383 rows × 3 columns</p>\n",
       "</div>"
      ],
      "text/plain": [
       "                  Fecha / Hora  \\\n",
       "0    2022-06-01 11:07:56+00:00   \n",
       "1    2022-06-01 11:25:34+00:00   \n",
       "2    2022-06-01 11:26:32+00:00   \n",
       "3    2022-06-01 11:30:51+00:00   \n",
       "4    2022-06-01 11:33:21+00:00   \n",
       "...                        ...   \n",
       "5378 2022-06-30 20:00:10+00:00   \n",
       "5379 2022-06-30 20:00:46+00:00   \n",
       "5380 2022-06-30 20:01:10+00:00   \n",
       "5381 2022-06-30 20:01:21+00:00   \n",
       "5382 2022-06-30 20:01:28+00:00   \n",
       "\n",
       "                                                 Asunto    ID  \n",
       "0                 <7569|20220601> Shein - Control Horas  7569  \n",
       "1            <7865|20220601> Messer Consolidado Correos  7865  \n",
       "2               <6886|20220601> Messer Ocupación Agente  6886  \n",
       "3            <6887|20220601> Messer Niveles De Servicio  6887  \n",
       "4      <6887|20220601> Messer Niveles De Servicio Chile  6887  \n",
       "...                                                 ...   ...  \n",
       "5378  <7408|20220630> BBVA - Reporte Tipificación Ou...  7408  \n",
       "5379  <8061|20220630> Cruz Verde Tablero De Control ...  8061  \n",
       "5380  <6874|20220630> Cruz Verde Actualización Kpi's...  6874  \n",
       "5381  <7689|20220630> Medicarte Tablero De Control J...  7689  \n",
       "5382         <6254|20220630> Ceet - Resumen Retenciones  6254  \n",
       "\n",
       "[5383 rows x 3 columns]"
      ]
     },
     "execution_count": 108,
     "metadata": {},
     "output_type": "execute_result"
    }
   ],
   "source": [
    "datos['ID'] = datos['Asunto'].str.extract('(\\d{4})')\n",
    "datos"
   ]
  },
  {
   "cell_type": "markdown",
   "metadata": {},
   "source": [
    "## Dato nulo identificado."
   ]
  },
  {
   "cell_type": "code",
   "execution_count": 109,
   "metadata": {},
   "outputs": [
    {
     "data": {
      "text/html": [
       "<div>\n",
       "<style scoped>\n",
       "    .dataframe tbody tr th:only-of-type {\n",
       "        vertical-align: middle;\n",
       "    }\n",
       "\n",
       "    .dataframe tbody tr th {\n",
       "        vertical-align: top;\n",
       "    }\n",
       "\n",
       "    .dataframe thead th {\n",
       "        text-align: right;\n",
       "    }\n",
       "</style>\n",
       "<table border=\"1\" class=\"dataframe\">\n",
       "  <thead>\n",
       "    <tr style=\"text-align: right;\">\n",
       "      <th></th>\n",
       "      <th>Fecha / Hora</th>\n",
       "      <th>Asunto</th>\n",
       "      <th>ID</th>\n",
       "    </tr>\n",
       "  </thead>\n",
       "  <tbody>\n",
       "    <tr>\n",
       "      <th>589</th>\n",
       "      <td>2022-06-03 11:20:59+00:00</td>\n",
       "      <td>&lt;6885|20220603&gt; Messer 5/15</td>\n",
       "      <td>6885</td>\n",
       "    </tr>\n",
       "    <tr>\n",
       "      <th>590</th>\n",
       "      <td>2022-06-03 11:38:06+00:00</td>\n",
       "      <td>ANDRES FELIPE PUERTO PINILLA &lt;afpuertop@grupok...</td>\n",
       "      <td>NaN</td>\n",
       "    </tr>\n",
       "    <tr>\n",
       "      <th>591</th>\n",
       "      <td>2022-06-03 11:40:02+00:00</td>\n",
       "      <td>&lt;7777|20220603&gt; BBVA - BBVA EMPRESAS Recuperac...</td>\n",
       "      <td>7777</td>\n",
       "    </tr>\n",
       "    <tr>\n",
       "      <th>592</th>\n",
       "      <td>2022-06-03 11:41:21+00:00</td>\n",
       "      <td>&lt;7019|20220603&gt; Messer Respuesta De Correos Pa...</td>\n",
       "      <td>7019</td>\n",
       "    </tr>\n",
       "    <tr>\n",
       "      <th>593</th>\n",
       "      <td>2022-06-03 11:43:24+00:00</td>\n",
       "      <td>&lt;7459|20220603&gt; BBVA - Reporte Irene Seguros</td>\n",
       "      <td>7459</td>\n",
       "    </tr>\n",
       "    <tr>\n",
       "      <th>594</th>\n",
       "      <td>2022-06-03 11:43:24+00:00</td>\n",
       "      <td>&lt;7459|20220603&gt; BBVA - Reporte Irene Seguros</td>\n",
       "      <td>7459</td>\n",
       "    </tr>\n",
       "    <tr>\n",
       "      <th>595</th>\n",
       "      <td>2022-06-03 11:57:56+00:00</td>\n",
       "      <td>Re: &lt;7749|20220601&gt; Liberty Informes: GNB - Bo...</td>\n",
       "      <td>7749</td>\n",
       "    </tr>\n",
       "    <tr>\n",
       "      <th>596</th>\n",
       "      <td>2022-06-03 12:00:52+00:00</td>\n",
       "      <td>&lt;6867|20220603&gt; Cruz Verde Informe Diario Juni...</td>\n",
       "      <td>6867</td>\n",
       "    </tr>\n",
       "    <tr>\n",
       "      <th>597</th>\n",
       "      <td>2022-06-03 12:08:48+00:00</td>\n",
       "      <td>Seguimiento Tiendas &lt;6238|20220603&gt;</td>\n",
       "      <td>6238</td>\n",
       "    </tr>\n",
       "    <tr>\n",
       "      <th>598</th>\n",
       "      <td>2022-06-03 12:10:06+00:00</td>\n",
       "      <td>&lt;6867|20220603&gt; Cruz Verde Informe Diario Juni...</td>\n",
       "      <td>6867</td>\n",
       "    </tr>\n",
       "    <tr>\n",
       "      <th>599</th>\n",
       "      <td>2022-06-03 12:28:13+00:00</td>\n",
       "      <td>&lt;7931|20220603&gt; BBVA - SPC / Banco</td>\n",
       "      <td>7931</td>\n",
       "    </tr>\n",
       "    <tr>\n",
       "      <th>600</th>\n",
       "      <td>2022-06-03 12:31:05+00:00</td>\n",
       "      <td>&lt;7492|20220603&gt; Cruz Verde Informe Anis Junio ...</td>\n",
       "      <td>7492</td>\n",
       "    </tr>\n",
       "    <tr>\n",
       "      <th>601</th>\n",
       "      <td>2022-06-03 12:49:43+00:00</td>\n",
       "      <td>&lt;7827|20220603&gt; Sena - Verbathing</td>\n",
       "      <td>7827</td>\n",
       "    </tr>\n",
       "    <tr>\n",
       "      <th>602</th>\n",
       "      <td>2022-06-03 12:51:32+00:00</td>\n",
       "      <td>&lt;6577|20220603&gt;Direc Tv Colombia K - Directv K...</td>\n",
       "      <td>6577</td>\n",
       "    </tr>\n",
       "    <tr>\n",
       "      <th>603</th>\n",
       "      <td>2022-06-03 12:53:11+00:00</td>\n",
       "      <td>&lt;7826|20220603&gt; Sena - Informe IVR</td>\n",
       "      <td>7826</td>\n",
       "    </tr>\n",
       "    <tr>\n",
       "      <th>604</th>\n",
       "      <td>2022-06-03 12:54:00+00:00</td>\n",
       "      <td>&lt;7045|20220603&gt; Sena - dobot - power bi</td>\n",
       "      <td>7045</td>\n",
       "    </tr>\n",
       "    <tr>\n",
       "      <th>605</th>\n",
       "      <td>2022-06-03 12:54:18+00:00</td>\n",
       "      <td>7799 | 03062022&gt;BBVA Seguros CDM Retenciones</td>\n",
       "      <td>7799</td>\n",
       "    </tr>\n",
       "    <tr>\n",
       "      <th>606</th>\n",
       "      <td>2022-06-03 12:56:05+00:00</td>\n",
       "      <td>&lt;7458|20220603&gt; BBVA - Reporte Irene Empresas</td>\n",
       "      <td>7458</td>\n",
       "    </tr>\n",
       "    <tr>\n",
       "      <th>607</th>\n",
       "      <td>2022-06-03 13:01:15+00:00</td>\n",
       "      <td>&lt;7110|20220603&gt; Ceet Informe Seguimiento Sugar...</td>\n",
       "      <td>7110</td>\n",
       "    </tr>\n",
       "    <tr>\n",
       "      <th>608</th>\n",
       "      <td>2022-06-03 13:01:53+00:00</td>\n",
       "      <td>&lt;7111|20220603&gt; Ceet Tipificaciones Clasificados</td>\n",
       "      <td>7111</td>\n",
       "    </tr>\n",
       "    <tr>\n",
       "      <th>609</th>\n",
       "      <td>2022-06-03 13:01:59+00:00</td>\n",
       "      <td>&lt;7860|20220603&gt; Cruz Verde Pbi Oms Junio 20220602</td>\n",
       "      <td>7860</td>\n",
       "    </tr>\n",
       "    <tr>\n",
       "      <th>610</th>\n",
       "      <td>2022-06-03 13:04:27+00:00</td>\n",
       "      <td>&lt;5115|20220603&gt;Direc Tv Colombia K - Directv K...</td>\n",
       "      <td>5115</td>\n",
       "    </tr>\n",
       "  </tbody>\n",
       "</table>\n",
       "</div>"
      ],
      "text/plain": [
       "                 Fecha / Hora  \\\n",
       "589 2022-06-03 11:20:59+00:00   \n",
       "590 2022-06-03 11:38:06+00:00   \n",
       "591 2022-06-03 11:40:02+00:00   \n",
       "592 2022-06-03 11:41:21+00:00   \n",
       "593 2022-06-03 11:43:24+00:00   \n",
       "594 2022-06-03 11:43:24+00:00   \n",
       "595 2022-06-03 11:57:56+00:00   \n",
       "596 2022-06-03 12:00:52+00:00   \n",
       "597 2022-06-03 12:08:48+00:00   \n",
       "598 2022-06-03 12:10:06+00:00   \n",
       "599 2022-06-03 12:28:13+00:00   \n",
       "600 2022-06-03 12:31:05+00:00   \n",
       "601 2022-06-03 12:49:43+00:00   \n",
       "602 2022-06-03 12:51:32+00:00   \n",
       "603 2022-06-03 12:53:11+00:00   \n",
       "604 2022-06-03 12:54:00+00:00   \n",
       "605 2022-06-03 12:54:18+00:00   \n",
       "606 2022-06-03 12:56:05+00:00   \n",
       "607 2022-06-03 13:01:15+00:00   \n",
       "608 2022-06-03 13:01:53+00:00   \n",
       "609 2022-06-03 13:01:59+00:00   \n",
       "610 2022-06-03 13:04:27+00:00   \n",
       "\n",
       "                                                Asunto    ID  \n",
       "589                        <6885|20220603> Messer 5/15  6885  \n",
       "590  ANDRES FELIPE PUERTO PINILLA <afpuertop@grupok...   NaN  \n",
       "591  <7777|20220603> BBVA - BBVA EMPRESAS Recuperac...  7777  \n",
       "592  <7019|20220603> Messer Respuesta De Correos Pa...  7019  \n",
       "593       <7459|20220603> BBVA - Reporte Irene Seguros  7459  \n",
       "594       <7459|20220603> BBVA - Reporte Irene Seguros  7459  \n",
       "595  Re: <7749|20220601> Liberty Informes: GNB - Bo...  7749  \n",
       "596  <6867|20220603> Cruz Verde Informe Diario Juni...  6867  \n",
       "597                Seguimiento Tiendas <6238|20220603>  6238  \n",
       "598  <6867|20220603> Cruz Verde Informe Diario Juni...  6867  \n",
       "599                 <7931|20220603> BBVA - SPC / Banco  7931  \n",
       "600  <7492|20220603> Cruz Verde Informe Anis Junio ...  7492  \n",
       "601                  <7827|20220603> Sena - Verbathing  7827  \n",
       "602  <6577|20220603>Direc Tv Colombia K - Directv K...  6577  \n",
       "603                 <7826|20220603> Sena - Informe IVR  7826  \n",
       "604            <7045|20220603> Sena - dobot - power bi  7045  \n",
       "605       7799 | 03062022>BBVA Seguros CDM Retenciones  7799  \n",
       "606      <7458|20220603> BBVA - Reporte Irene Empresas  7458  \n",
       "607  <7110|20220603> Ceet Informe Seguimiento Sugar...  7110  \n",
       "608   <7111|20220603> Ceet Tipificaciones Clasificados  7111  \n",
       "609  <7860|20220603> Cruz Verde Pbi Oms Junio 20220602  7860  \n",
       "610  <5115|20220603>Direc Tv Colombia K - Directv K...  5115  "
      ]
     },
     "execution_count": 109,
     "metadata": {},
     "output_type": "execute_result"
    }
   ],
   "source": [
    "datos[589:611]"
   ]
  },
  {
   "cell_type": "markdown",
   "metadata": {},
   "source": [
    "## Identificando los datos faltantes por ID."
   ]
  },
  {
   "cell_type": "code",
   "execution_count": 110,
   "metadata": {},
   "outputs": [
    {
     "data": {
      "text/plain": [
       "Fecha / Hora     0\n",
       "Asunto           0\n",
       "ID              17\n",
       "dtype: int64"
      ]
     },
     "execution_count": 110,
     "metadata": {},
     "output_type": "execute_result"
    }
   ],
   "source": [
    "datos_faltantes = datos.isnull().sum().sort_values(ascending=True)\n",
    "datos_faltantes"
   ]
  },
  {
   "cell_type": "markdown",
   "metadata": {},
   "source": [
    "## Eliminar fila de ID faltante."
   ]
  },
  {
   "cell_type": "code",
   "execution_count": 111,
   "metadata": {},
   "outputs": [],
   "source": [
    "\n",
    "datos_faltantes = datos.isnull().sum().sort_values(ascending=True)\n",
    "datos_faltantes\n",
    "datos = datos[~(datos['ID'].isnull())]"
   ]
  },
  {
   "cell_type": "markdown",
   "metadata": {},
   "source": [
    "## Porcentajes de ID faltantes"
   ]
  },
  {
   "cell_type": "code",
   "execution_count": 112,
   "metadata": {},
   "outputs": [
    {
     "name": "stdout",
     "output_type": "stream",
     "text": [
      "Fecha / Hora = 0.0\n",
      "Asunto = 0.0\n",
      "ID = 0.0\n"
     ]
    }
   ],
   "source": [
    "for column in datos.columns:\n",
    "    porcentaje_faltantes = datos[column].isnull().mean()\n",
    "    print(column, '=', round(porcentaje_faltantes*100,2))"
   ]
  },
  {
   "cell_type": "markdown",
   "metadata": {},
   "source": [
    "## Verificamos la fina 590, datos faltante."
   ]
  },
  {
   "cell_type": "code",
   "execution_count": 113,
   "metadata": {},
   "outputs": [
    {
     "data": {
      "text/html": [
       "<div>\n",
       "<style scoped>\n",
       "    .dataframe tbody tr th:only-of-type {\n",
       "        vertical-align: middle;\n",
       "    }\n",
       "\n",
       "    .dataframe tbody tr th {\n",
       "        vertical-align: top;\n",
       "    }\n",
       "\n",
       "    .dataframe thead th {\n",
       "        text-align: right;\n",
       "    }\n",
       "</style>\n",
       "<table border=\"1\" class=\"dataframe\">\n",
       "  <thead>\n",
       "    <tr style=\"text-align: right;\">\n",
       "      <th></th>\n",
       "      <th>Fecha / Hora</th>\n",
       "      <th>Asunto</th>\n",
       "      <th>ID</th>\n",
       "    </tr>\n",
       "  </thead>\n",
       "  <tbody>\n",
       "    <tr>\n",
       "      <th>0</th>\n",
       "      <td>2022-06-01 11:07:56+00:00</td>\n",
       "      <td>&lt;7569|20220601&gt; Shein - Control Horas</td>\n",
       "      <td>7569</td>\n",
       "    </tr>\n",
       "    <tr>\n",
       "      <th>1</th>\n",
       "      <td>2022-06-01 11:25:34+00:00</td>\n",
       "      <td>&lt;7865|20220601&gt; Messer Consolidado Correos</td>\n",
       "      <td>7865</td>\n",
       "    </tr>\n",
       "    <tr>\n",
       "      <th>2</th>\n",
       "      <td>2022-06-01 11:26:32+00:00</td>\n",
       "      <td>&lt;6886|20220601&gt; Messer Ocupación Agente</td>\n",
       "      <td>6886</td>\n",
       "    </tr>\n",
       "    <tr>\n",
       "      <th>3</th>\n",
       "      <td>2022-06-01 11:30:51+00:00</td>\n",
       "      <td>&lt;6887|20220601&gt; Messer Niveles De Servicio</td>\n",
       "      <td>6887</td>\n",
       "    </tr>\n",
       "    <tr>\n",
       "      <th>4</th>\n",
       "      <td>2022-06-01 11:33:21+00:00</td>\n",
       "      <td>&lt;6887|20220601&gt; Messer Niveles De Servicio Chile</td>\n",
       "      <td>6887</td>\n",
       "    </tr>\n",
       "    <tr>\n",
       "      <th>...</th>\n",
       "      <td>...</td>\n",
       "      <td>...</td>\n",
       "      <td>...</td>\n",
       "    </tr>\n",
       "    <tr>\n",
       "      <th>5378</th>\n",
       "      <td>2022-06-30 20:00:10+00:00</td>\n",
       "      <td>&lt;7408|20220630&gt; BBVA - Reporte Tipificación Ou...</td>\n",
       "      <td>7408</td>\n",
       "    </tr>\n",
       "    <tr>\n",
       "      <th>5379</th>\n",
       "      <td>2022-06-30 20:00:46+00:00</td>\n",
       "      <td>&lt;8061|20220630&gt; Cruz Verde Tablero De Control ...</td>\n",
       "      <td>8061</td>\n",
       "    </tr>\n",
       "    <tr>\n",
       "      <th>5380</th>\n",
       "      <td>2022-06-30 20:01:10+00:00</td>\n",
       "      <td>&lt;6874|20220630&gt; Cruz Verde Actualización Kpi's...</td>\n",
       "      <td>6874</td>\n",
       "    </tr>\n",
       "    <tr>\n",
       "      <th>5381</th>\n",
       "      <td>2022-06-30 20:01:21+00:00</td>\n",
       "      <td>&lt;7689|20220630&gt; Medicarte Tablero De Control J...</td>\n",
       "      <td>7689</td>\n",
       "    </tr>\n",
       "    <tr>\n",
       "      <th>5382</th>\n",
       "      <td>2022-06-30 20:01:28+00:00</td>\n",
       "      <td>&lt;6254|20220630&gt; Ceet - Resumen Retenciones</td>\n",
       "      <td>6254</td>\n",
       "    </tr>\n",
       "  </tbody>\n",
       "</table>\n",
       "<p>5366 rows × 3 columns</p>\n",
       "</div>"
      ],
      "text/plain": [
       "                  Fecha / Hora  \\\n",
       "0    2022-06-01 11:07:56+00:00   \n",
       "1    2022-06-01 11:25:34+00:00   \n",
       "2    2022-06-01 11:26:32+00:00   \n",
       "3    2022-06-01 11:30:51+00:00   \n",
       "4    2022-06-01 11:33:21+00:00   \n",
       "...                        ...   \n",
       "5378 2022-06-30 20:00:10+00:00   \n",
       "5379 2022-06-30 20:00:46+00:00   \n",
       "5380 2022-06-30 20:01:10+00:00   \n",
       "5381 2022-06-30 20:01:21+00:00   \n",
       "5382 2022-06-30 20:01:28+00:00   \n",
       "\n",
       "                                                 Asunto    ID  \n",
       "0                 <7569|20220601> Shein - Control Horas  7569  \n",
       "1            <7865|20220601> Messer Consolidado Correos  7865  \n",
       "2               <6886|20220601> Messer Ocupación Agente  6886  \n",
       "3            <6887|20220601> Messer Niveles De Servicio  6887  \n",
       "4      <6887|20220601> Messer Niveles De Servicio Chile  6887  \n",
       "...                                                 ...   ...  \n",
       "5378  <7408|20220630> BBVA - Reporte Tipificación Ou...  7408  \n",
       "5379  <8061|20220630> Cruz Verde Tablero De Control ...  8061  \n",
       "5380  <6874|20220630> Cruz Verde Actualización Kpi's...  6874  \n",
       "5381  <7689|20220630> Medicarte Tablero De Control J...  7689  \n",
       "5382         <6254|20220630> Ceet - Resumen Retenciones  6254  \n",
       "\n",
       "[5366 rows x 3 columns]"
      ]
     },
     "execution_count": 113,
     "metadata": {},
     "output_type": "execute_result"
    }
   ],
   "source": [
    "datos"
   ]
  },
  {
   "cell_type": "code",
   "execution_count": 114,
   "metadata": {},
   "outputs": [
    {
     "data": {
      "text/plain": [
       "(5366, 3)"
      ]
     },
     "execution_count": 114,
     "metadata": {},
     "output_type": "execute_result"
    }
   ],
   "source": [
    "datos.shape"
   ]
  },
  {
   "cell_type": "markdown",
   "metadata": {},
   "source": [
    "## Extraer comentario."
   ]
  },
  {
   "cell_type": "code",
   "execution_count": 115,
   "metadata": {},
   "outputs": [
    {
     "name": "stderr",
     "output_type": "stream",
     "text": [
      "/tmp/ipykernel_35153/902243950.py:1: SettingWithCopyWarning: \n",
      "A value is trying to be set on a copy of a slice from a DataFrame.\n",
      "Try using .loc[row_indexer,col_indexer] = value instead\n",
      "\n",
      "See the caveats in the documentation: https://pandas.pydata.org/pandas-docs/stable/user_guide/indexing.html#returning-a-view-versus-a-copy\n",
      "  datos['Comment'] = \"\".join(re.findall(\"[a-z A-Z]\",str(datos[\"Asunto\"])))\n"
     ]
    }
   ],
   "source": [
    "datos['Comment'] = \"\".join(re.findall(\"[a-z A-Z]\",str(datos[\"Asunto\"])))"
   ]
  },
  {
   "cell_type": "code",
   "execution_count": 116,
   "metadata": {},
   "outputs": [],
   "source": [
    "# datos['Comment'] = datos.apply(lambda x: \"\".join(re.findall(\"[a-z A-Z]\",str(datos[\"Asunto\"]))))\n",
    "# datos.loc[i,column.Asunto] = datos['Comment']"
   ]
  },
  {
   "cell_type": "code",
   "execution_count": 117,
   "metadata": {},
   "outputs": [
    {
     "name": "stderr",
     "output_type": "stream",
     "text": [
      "/tmp/ipykernel_35153/84422381.py:7: SettingWithCopyWarning: \n",
      "A value is trying to be set on a copy of a slice from a DataFrame.\n",
      "Try using .loc[row_indexer,col_indexer] = value instead\n",
      "\n",
      "See the caveats in the documentation: https://pandas.pydata.org/pandas-docs/stable/user_guide/indexing.html#returning-a-view-versus-a-copy\n",
      "  datos['Comentario'] = datos['Asunto'].apply(extraer_comentario)\n"
     ]
    }
   ],
   "source": [
    "extraer_comentario = lambda x: \"\".join(re.findall(\"[a-z A-Z]\",str(x)))\n",
    "datos['Comentario'] = datos['Asunto'].apply(extraer_comentario)"
   ]
  },
  {
   "cell_type": "code",
   "execution_count": 118,
   "metadata": {},
   "outputs": [
    {
     "data": {
      "text/html": [
       "<div>\n",
       "<style scoped>\n",
       "    .dataframe tbody tr th:only-of-type {\n",
       "        vertical-align: middle;\n",
       "    }\n",
       "\n",
       "    .dataframe tbody tr th {\n",
       "        vertical-align: top;\n",
       "    }\n",
       "\n",
       "    .dataframe thead th {\n",
       "        text-align: right;\n",
       "    }\n",
       "</style>\n",
       "<table border=\"1\" class=\"dataframe\">\n",
       "  <thead>\n",
       "    <tr style=\"text-align: right;\">\n",
       "      <th></th>\n",
       "      <th>Fecha / Hora</th>\n",
       "      <th>Asunto</th>\n",
       "      <th>ID</th>\n",
       "      <th>Comment</th>\n",
       "      <th>Comentario</th>\n",
       "    </tr>\n",
       "  </thead>\n",
       "  <tbody>\n",
       "    <tr>\n",
       "      <th>0</th>\n",
       "      <td>2022-06-01 11:07:56+00:00</td>\n",
       "      <td>&lt;7569|20220601&gt; Shein - Control Horas</td>\n",
       "      <td>7569</td>\n",
       "      <td>Shein  Control Horas      ...</td>\n",
       "      <td>Shein  Control Horas</td>\n",
       "    </tr>\n",
       "    <tr>\n",
       "      <th>1</th>\n",
       "      <td>2022-06-01 11:25:34+00:00</td>\n",
       "      <td>&lt;7865|20220601&gt; Messer Consolidado Correos</td>\n",
       "      <td>7865</td>\n",
       "      <td>Shein  Control Horas      ...</td>\n",
       "      <td>Messer Consolidado Correos</td>\n",
       "    </tr>\n",
       "    <tr>\n",
       "      <th>2</th>\n",
       "      <td>2022-06-01 11:26:32+00:00</td>\n",
       "      <td>&lt;6886|20220601&gt; Messer Ocupación Agente</td>\n",
       "      <td>6886</td>\n",
       "      <td>Shein  Control Horas      ...</td>\n",
       "      <td>Messer Ocupacin Agente</td>\n",
       "    </tr>\n",
       "    <tr>\n",
       "      <th>3</th>\n",
       "      <td>2022-06-01 11:30:51+00:00</td>\n",
       "      <td>&lt;6887|20220601&gt; Messer Niveles De Servicio</td>\n",
       "      <td>6887</td>\n",
       "      <td>Shein  Control Horas      ...</td>\n",
       "      <td>Messer Niveles De Servicio</td>\n",
       "    </tr>\n",
       "    <tr>\n",
       "      <th>4</th>\n",
       "      <td>2022-06-01 11:33:21+00:00</td>\n",
       "      <td>&lt;6887|20220601&gt; Messer Niveles De Servicio Chile</td>\n",
       "      <td>6887</td>\n",
       "      <td>Shein  Control Horas      ...</td>\n",
       "      <td>Messer Niveles De Servicio Chile</td>\n",
       "    </tr>\n",
       "    <tr>\n",
       "      <th>...</th>\n",
       "      <td>...</td>\n",
       "      <td>...</td>\n",
       "      <td>...</td>\n",
       "      <td>...</td>\n",
       "      <td>...</td>\n",
       "    </tr>\n",
       "    <tr>\n",
       "      <th>5378</th>\n",
       "      <td>2022-06-30 20:00:10+00:00</td>\n",
       "      <td>&lt;7408|20220630&gt; BBVA - Reporte Tipificación Ou...</td>\n",
       "      <td>7408</td>\n",
       "      <td>Shein  Control Horas      ...</td>\n",
       "      <td>BBVA  Reporte Tipificacin Outbound</td>\n",
       "    </tr>\n",
       "    <tr>\n",
       "      <th>5379</th>\n",
       "      <td>2022-06-30 20:00:46+00:00</td>\n",
       "      <td>&lt;8061|20220630&gt; Cruz Verde Tablero De Control ...</td>\n",
       "      <td>8061</td>\n",
       "      <td>Shein  Control Horas      ...</td>\n",
       "      <td>Cruz Verde Tablero De Control Unificado Junio</td>\n",
       "    </tr>\n",
       "    <tr>\n",
       "      <th>5380</th>\n",
       "      <td>2022-06-30 20:01:10+00:00</td>\n",
       "      <td>&lt;6874|20220630&gt; Cruz Verde Actualización Kpi's...</td>\n",
       "      <td>6874</td>\n",
       "      <td>Shein  Control Horas      ...</td>\n",
       "      <td>Cruz Verde Actualizacin Kpis Junio</td>\n",
       "    </tr>\n",
       "    <tr>\n",
       "      <th>5381</th>\n",
       "      <td>2022-06-30 20:01:21+00:00</td>\n",
       "      <td>&lt;7689|20220630&gt; Medicarte Tablero De Control J...</td>\n",
       "      <td>7689</td>\n",
       "      <td>Shein  Control Horas      ...</td>\n",
       "      <td>Medicarte Tablero De Control Junio</td>\n",
       "    </tr>\n",
       "    <tr>\n",
       "      <th>5382</th>\n",
       "      <td>2022-06-30 20:01:28+00:00</td>\n",
       "      <td>&lt;6254|20220630&gt; Ceet - Resumen Retenciones</td>\n",
       "      <td>6254</td>\n",
       "      <td>Shein  Control Horas      ...</td>\n",
       "      <td>Ceet  Resumen Retenciones</td>\n",
       "    </tr>\n",
       "  </tbody>\n",
       "</table>\n",
       "<p>5366 rows × 5 columns</p>\n",
       "</div>"
      ],
      "text/plain": [
       "                  Fecha / Hora  \\\n",
       "0    2022-06-01 11:07:56+00:00   \n",
       "1    2022-06-01 11:25:34+00:00   \n",
       "2    2022-06-01 11:26:32+00:00   \n",
       "3    2022-06-01 11:30:51+00:00   \n",
       "4    2022-06-01 11:33:21+00:00   \n",
       "...                        ...   \n",
       "5378 2022-06-30 20:00:10+00:00   \n",
       "5379 2022-06-30 20:00:46+00:00   \n",
       "5380 2022-06-30 20:01:10+00:00   \n",
       "5381 2022-06-30 20:01:21+00:00   \n",
       "5382 2022-06-30 20:01:28+00:00   \n",
       "\n",
       "                                                 Asunto    ID  \\\n",
       "0                 <7569|20220601> Shein - Control Horas  7569   \n",
       "1            <7865|20220601> Messer Consolidado Correos  7865   \n",
       "2               <6886|20220601> Messer Ocupación Agente  6886   \n",
       "3            <6887|20220601> Messer Niveles De Servicio  6887   \n",
       "4      <6887|20220601> Messer Niveles De Servicio Chile  6887   \n",
       "...                                                 ...   ...   \n",
       "5378  <7408|20220630> BBVA - Reporte Tipificación Ou...  7408   \n",
       "5379  <8061|20220630> Cruz Verde Tablero De Control ...  8061   \n",
       "5380  <6874|20220630> Cruz Verde Actualización Kpi's...  6874   \n",
       "5381  <7689|20220630> Medicarte Tablero De Control J...  7689   \n",
       "5382         <6254|20220630> Ceet - Resumen Retenciones  6254   \n",
       "\n",
       "                                                Comment  \\\n",
       "0                         Shein  Control Horas      ...   \n",
       "1                         Shein  Control Horas      ...   \n",
       "2                         Shein  Control Horas      ...   \n",
       "3                         Shein  Control Horas      ...   \n",
       "4                         Shein  Control Horas      ...   \n",
       "...                                                 ...   \n",
       "5378                      Shein  Control Horas      ...   \n",
       "5379                      Shein  Control Horas      ...   \n",
       "5380                      Shein  Control Horas      ...   \n",
       "5381                      Shein  Control Horas      ...   \n",
       "5382                      Shein  Control Horas      ...   \n",
       "\n",
       "                                           Comentario  \n",
       "0                                Shein  Control Horas  \n",
       "1                          Messer Consolidado Correos  \n",
       "2                              Messer Ocupacin Agente  \n",
       "3                          Messer Niveles De Servicio  \n",
       "4                    Messer Niveles De Servicio Chile  \n",
       "...                                               ...  \n",
       "5378               BBVA  Reporte Tipificacin Outbound  \n",
       "5379   Cruz Verde Tablero De Control Unificado Junio   \n",
       "5380              Cruz Verde Actualizacin Kpis Junio   \n",
       "5381              Medicarte Tablero De Control Junio   \n",
       "5382                        Ceet  Resumen Retenciones  \n",
       "\n",
       "[5366 rows x 5 columns]"
      ]
     },
     "execution_count": 118,
     "metadata": {},
     "output_type": "execute_result"
    }
   ],
   "source": [
    "datos"
   ]
  }
 ],
 "metadata": {
  "kernelspec": {
   "display_name": "Python 3.9.2 64-bit",
   "language": "python",
   "name": "python3"
  },
  "language_info": {
   "codemirror_mode": {
    "name": "ipython",
    "version": 3
   },
   "file_extension": ".py",
   "mimetype": "text/x-python",
   "name": "python",
   "nbconvert_exporter": "python",
   "pygments_lexer": "ipython3",
   "version": "3.9.2"
  },
  "orig_nbformat": 4,
  "vscode": {
   "interpreter": {
    "hash": "31f2aee4e71d21fbe5cf8b01ff0e069b9275f58929596ceb00d14d90e3e16cd6"
   }
  }
 },
 "nbformat": 4,
 "nbformat_minor": 2
}

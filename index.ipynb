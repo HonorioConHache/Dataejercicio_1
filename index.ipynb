{
 "cells": [
  {
   "cell_type": "markdown",
   "metadata": {},
   "source": [
    "## Librerias."
   ]
  },
  {
   "cell_type": "code",
   "execution_count": 71,
   "metadata": {},
   "outputs": [],
   "source": [
    "import pandas as pd\n",
    "import numpy as np\n",
    "from datetime import datetime, timedelta\n",
    "import re"
   ]
  },
  {
   "cell_type": "markdown",
   "metadata": {},
   "source": [
    "## Carga de datos"
   ]
  },
  {
   "cell_type": "code",
   "execution_count": 72,
   "metadata": {},
   "outputs": [
    {
     "data": {
      "text/html": [
       "<div>\n",
       "<style scoped>\n",
       "    .dataframe tbody tr th:only-of-type {\n",
       "        vertical-align: middle;\n",
       "    }\n",
       "\n",
       "    .dataframe tbody tr th {\n",
       "        vertical-align: top;\n",
       "    }\n",
       "\n",
       "    .dataframe thead th {\n",
       "        text-align: right;\n",
       "    }\n",
       "</style>\n",
       "<table border=\"1\" class=\"dataframe\">\n",
       "  <thead>\n",
       "    <tr style=\"text-align: right;\">\n",
       "      <th></th>\n",
       "      <th>Fecha / Hora</th>\n",
       "      <th>Asunto</th>\n",
       "    </tr>\n",
       "  </thead>\n",
       "  <tbody>\n",
       "    <tr>\n",
       "      <th>0</th>\n",
       "      <td>2022-06-01T11:07:56+00:00</td>\n",
       "      <td>&lt;7569|20220601&gt; Shein - Control Horas</td>\n",
       "    </tr>\n",
       "    <tr>\n",
       "      <th>1</th>\n",
       "      <td>2022-06-01T11:25:34+00:00</td>\n",
       "      <td>&lt;7865|20220601&gt; Messer Consolidado Correos</td>\n",
       "    </tr>\n",
       "    <tr>\n",
       "      <th>2</th>\n",
       "      <td>2022-06-01T11:26:32+00:00</td>\n",
       "      <td>&lt;6886|20220601&gt; Messer Ocupación Agente</td>\n",
       "    </tr>\n",
       "    <tr>\n",
       "      <th>3</th>\n",
       "      <td>2022-06-01T11:30:51+00:00</td>\n",
       "      <td>&lt;6887|20220601&gt; Messer Niveles De Servicio</td>\n",
       "    </tr>\n",
       "    <tr>\n",
       "      <th>4</th>\n",
       "      <td>2022-06-01T11:33:21+00:00</td>\n",
       "      <td>&lt;6887|20220601&gt; Messer Niveles De Servicio Chile</td>\n",
       "    </tr>\n",
       "    <tr>\n",
       "      <th>5</th>\n",
       "      <td>2022-06-01T11:37:53+00:00</td>\n",
       "      <td>&lt;7776|20220601&gt; BBVA - BBVA EMPRESAS Recuperac...</td>\n",
       "    </tr>\n",
       "    <tr>\n",
       "      <th>6</th>\n",
       "      <td>2022-06-01T11:51:01+00:00</td>\n",
       "      <td>&lt;6885|20220601&gt; Messer 5/15</td>\n",
       "    </tr>\n",
       "    <tr>\n",
       "      <th>7</th>\n",
       "      <td>2022-06-01T12:00:26+00:00</td>\n",
       "      <td>&lt;7745|20220601&gt; Pichincha IVR</td>\n",
       "    </tr>\n",
       "    <tr>\n",
       "      <th>8</th>\n",
       "      <td>2022-06-01T12:00:30+00:00</td>\n",
       "      <td>&lt;6867|20220601&gt; Cruz Verde Informe Diario Juni...</td>\n",
       "    </tr>\n",
       "    <tr>\n",
       "      <th>9</th>\n",
       "      <td>2022-06-01T12:17:21+00:00</td>\n",
       "      <td>&lt;6867|20220601&gt; Cruz Verde Informe Diario Juni...</td>\n",
       "    </tr>\n",
       "  </tbody>\n",
       "</table>\n",
       "</div>"
      ],
      "text/plain": [
       "                Fecha / Hora  \\\n",
       "0  2022-06-01T11:07:56+00:00   \n",
       "1  2022-06-01T11:25:34+00:00   \n",
       "2  2022-06-01T11:26:32+00:00   \n",
       "3  2022-06-01T11:30:51+00:00   \n",
       "4  2022-06-01T11:33:21+00:00   \n",
       "5  2022-06-01T11:37:53+00:00   \n",
       "6  2022-06-01T11:51:01+00:00   \n",
       "7  2022-06-01T12:00:26+00:00   \n",
       "8  2022-06-01T12:00:30+00:00   \n",
       "9  2022-06-01T12:17:21+00:00   \n",
       "\n",
       "                                              Asunto  \n",
       "0              <7569|20220601> Shein - Control Horas  \n",
       "1         <7865|20220601> Messer Consolidado Correos  \n",
       "2            <6886|20220601> Messer Ocupación Agente  \n",
       "3         <6887|20220601> Messer Niveles De Servicio  \n",
       "4   <6887|20220601> Messer Niveles De Servicio Chile  \n",
       "5  <7776|20220601> BBVA - BBVA EMPRESAS Recuperac...  \n",
       "6                        <6885|20220601> Messer 5/15  \n",
       "7                      <7745|20220601> Pichincha IVR  \n",
       "8  <6867|20220601> Cruz Verde Informe Diario Juni...  \n",
       "9  <6867|20220601> Cruz Verde Informe Diario Juni...  "
      ]
     },
     "execution_count": 72,
     "metadata": {},
     "output_type": "execute_result"
    }
   ],
   "source": [
    "data_origin = pd.read_excel('Puntualidad Bogotá.xlsx')\n",
    "datos = data_origin.copy()\n",
    "datos.head(10)\n",
    "\n",
    "#datos = datos[:100]"
   ]
  },
  {
   "cell_type": "markdown",
   "metadata": {},
   "source": [
    "## Tipos de datos."
   ]
  },
  {
   "cell_type": "code",
   "execution_count": 73,
   "metadata": {},
   "outputs": [
    {
     "data": {
      "text/plain": [
       "Fecha / Hora    object\n",
       "Asunto          object\n",
       "dtype: object"
      ]
     },
     "execution_count": 73,
     "metadata": {},
     "output_type": "execute_result"
    }
   ],
   "source": [
    "datos.dtypes"
   ]
  },
  {
   "cell_type": "markdown",
   "metadata": {},
   "source": [
    "## Dimenciones del dataframe."
   ]
  },
  {
   "cell_type": "code",
   "execution_count": 74,
   "metadata": {},
   "outputs": [
    {
     "data": {
      "text/plain": [
       "(5383, 2)"
      ]
     },
     "execution_count": 74,
     "metadata": {},
     "output_type": "execute_result"
    }
   ],
   "source": [
    "datos.shape"
   ]
  },
  {
   "cell_type": "markdown",
   "metadata": {},
   "source": [
    "## Datos faltantes."
   ]
  },
  {
   "cell_type": "code",
   "execution_count": 75,
   "metadata": {},
   "outputs": [
    {
     "data": {
      "text/plain": [
       "Fecha / Hora    0\n",
       "Asunto          0\n",
       "dtype: int64"
      ]
     },
     "execution_count": 75,
     "metadata": {},
     "output_type": "execute_result"
    }
   ],
   "source": [
    "datos_faltantes = datos.isnull().sum().sort_values(ascending=True)\n",
    "datos_faltantes"
   ]
  },
  {
   "cell_type": "markdown",
   "metadata": {},
   "source": [
    "## Porcentajes de datos faltantes por columna."
   ]
  },
  {
   "cell_type": "code",
   "execution_count": 76,
   "metadata": {},
   "outputs": [
    {
     "name": "stdout",
     "output_type": "stream",
     "text": [
      "Fecha / Hora = 0.0\n",
      "Asunto = 0.0\n"
     ]
    }
   ],
   "source": [
    "for column in datos.columns:\n",
    "    porcentaje_faltantes = datos[column].isnull().mean()\n",
    "    print(column, '=', round(porcentaje_faltantes*100,2))"
   ]
  },
  {
   "cell_type": "markdown",
   "metadata": {},
   "source": [
    "## Convertir columna tipo object a datetime64 en una nueva columna."
   ]
  },
  {
   "cell_type": "code",
   "execution_count": 77,
   "metadata": {},
   "outputs": [
    {
     "data": {
      "text/plain": [
       "Fecha / Hora                 object\n",
       "Asunto                       object\n",
       "Datetime        datetime64[ns, UTC]\n",
       "dtype: object"
      ]
     },
     "execution_count": 77,
     "metadata": {},
     "output_type": "execute_result"
    }
   ],
   "source": [
    "datos['Datetime'] = pd.to_datetime(datos['Fecha / Hora'])\n",
    "\n",
    "datos.dtypes"
   ]
  },
  {
   "cell_type": "code",
   "execution_count": 78,
   "metadata": {},
   "outputs": [
    {
     "data": {
      "text/html": [
       "<div>\n",
       "<style scoped>\n",
       "    .dataframe tbody tr th:only-of-type {\n",
       "        vertical-align: middle;\n",
       "    }\n",
       "\n",
       "    .dataframe tbody tr th {\n",
       "        vertical-align: top;\n",
       "    }\n",
       "\n",
       "    .dataframe thead th {\n",
       "        text-align: right;\n",
       "    }\n",
       "</style>\n",
       "<table border=\"1\" class=\"dataframe\">\n",
       "  <thead>\n",
       "    <tr style=\"text-align: right;\">\n",
       "      <th></th>\n",
       "      <th>Fecha / Hora</th>\n",
       "      <th>Asunto</th>\n",
       "      <th>Datetime</th>\n",
       "    </tr>\n",
       "  </thead>\n",
       "  <tbody>\n",
       "    <tr>\n",
       "      <th>0</th>\n",
       "      <td>2022-06-01T11:07:56+00:00</td>\n",
       "      <td>&lt;7569|20220601&gt; Shein - Control Horas</td>\n",
       "      <td>2022-06-01 11:07:56+00:00</td>\n",
       "    </tr>\n",
       "    <tr>\n",
       "      <th>1</th>\n",
       "      <td>2022-06-01T11:25:34+00:00</td>\n",
       "      <td>&lt;7865|20220601&gt; Messer Consolidado Correos</td>\n",
       "      <td>2022-06-01 11:25:34+00:00</td>\n",
       "    </tr>\n",
       "    <tr>\n",
       "      <th>2</th>\n",
       "      <td>2022-06-01T11:26:32+00:00</td>\n",
       "      <td>&lt;6886|20220601&gt; Messer Ocupación Agente</td>\n",
       "      <td>2022-06-01 11:26:32+00:00</td>\n",
       "    </tr>\n",
       "    <tr>\n",
       "      <th>3</th>\n",
       "      <td>2022-06-01T11:30:51+00:00</td>\n",
       "      <td>&lt;6887|20220601&gt; Messer Niveles De Servicio</td>\n",
       "      <td>2022-06-01 11:30:51+00:00</td>\n",
       "    </tr>\n",
       "    <tr>\n",
       "      <th>4</th>\n",
       "      <td>2022-06-01T11:33:21+00:00</td>\n",
       "      <td>&lt;6887|20220601&gt; Messer Niveles De Servicio Chile</td>\n",
       "      <td>2022-06-01 11:33:21+00:00</td>\n",
       "    </tr>\n",
       "    <tr>\n",
       "      <th>5</th>\n",
       "      <td>2022-06-01T11:37:53+00:00</td>\n",
       "      <td>&lt;7776|20220601&gt; BBVA - BBVA EMPRESAS Recuperac...</td>\n",
       "      <td>2022-06-01 11:37:53+00:00</td>\n",
       "    </tr>\n",
       "    <tr>\n",
       "      <th>6</th>\n",
       "      <td>2022-06-01T11:51:01+00:00</td>\n",
       "      <td>&lt;6885|20220601&gt; Messer 5/15</td>\n",
       "      <td>2022-06-01 11:51:01+00:00</td>\n",
       "    </tr>\n",
       "    <tr>\n",
       "      <th>7</th>\n",
       "      <td>2022-06-01T12:00:26+00:00</td>\n",
       "      <td>&lt;7745|20220601&gt; Pichincha IVR</td>\n",
       "      <td>2022-06-01 12:00:26+00:00</td>\n",
       "    </tr>\n",
       "    <tr>\n",
       "      <th>8</th>\n",
       "      <td>2022-06-01T12:00:30+00:00</td>\n",
       "      <td>&lt;6867|20220601&gt; Cruz Verde Informe Diario Juni...</td>\n",
       "      <td>2022-06-01 12:00:30+00:00</td>\n",
       "    </tr>\n",
       "    <tr>\n",
       "      <th>9</th>\n",
       "      <td>2022-06-01T12:17:21+00:00</td>\n",
       "      <td>&lt;6867|20220601&gt; Cruz Verde Informe Diario Juni...</td>\n",
       "      <td>2022-06-01 12:17:21+00:00</td>\n",
       "    </tr>\n",
       "  </tbody>\n",
       "</table>\n",
       "</div>"
      ],
      "text/plain": [
       "                Fecha / Hora  \\\n",
       "0  2022-06-01T11:07:56+00:00   \n",
       "1  2022-06-01T11:25:34+00:00   \n",
       "2  2022-06-01T11:26:32+00:00   \n",
       "3  2022-06-01T11:30:51+00:00   \n",
       "4  2022-06-01T11:33:21+00:00   \n",
       "5  2022-06-01T11:37:53+00:00   \n",
       "6  2022-06-01T11:51:01+00:00   \n",
       "7  2022-06-01T12:00:26+00:00   \n",
       "8  2022-06-01T12:00:30+00:00   \n",
       "9  2022-06-01T12:17:21+00:00   \n",
       "\n",
       "                                              Asunto                  Datetime  \n",
       "0              <7569|20220601> Shein - Control Horas 2022-06-01 11:07:56+00:00  \n",
       "1         <7865|20220601> Messer Consolidado Correos 2022-06-01 11:25:34+00:00  \n",
       "2            <6886|20220601> Messer Ocupación Agente 2022-06-01 11:26:32+00:00  \n",
       "3         <6887|20220601> Messer Niveles De Servicio 2022-06-01 11:30:51+00:00  \n",
       "4   <6887|20220601> Messer Niveles De Servicio Chile 2022-06-01 11:33:21+00:00  \n",
       "5  <7776|20220601> BBVA - BBVA EMPRESAS Recuperac... 2022-06-01 11:37:53+00:00  \n",
       "6                        <6885|20220601> Messer 5/15 2022-06-01 11:51:01+00:00  \n",
       "7                      <7745|20220601> Pichincha IVR 2022-06-01 12:00:26+00:00  \n",
       "8  <6867|20220601> Cruz Verde Informe Diario Juni... 2022-06-01 12:00:30+00:00  \n",
       "9  <6867|20220601> Cruz Verde Informe Diario Juni... 2022-06-01 12:17:21+00:00  "
      ]
     },
     "execution_count": 78,
     "metadata": {},
     "output_type": "execute_result"
    }
   ],
   "source": [
    "datos.head(10)"
   ]
  },
  {
   "cell_type": "markdown",
   "metadata": {},
   "source": [
    "## Identificar los ID."
   ]
  },
  {
   "cell_type": "code",
   "execution_count": 79,
   "metadata": {},
   "outputs": [
    {
     "name": "stderr",
     "output_type": "stream",
     "text": [
      "/tmp/ipykernel_3170/1160141558.py:4: SettingWithCopyWarning: \n",
      "A value is trying to be set on a copy of a slice from a DataFrame\n",
      "\n",
      "See the caveats in the documentation: https://pandas.pydata.org/pandas-docs/stable/user_guide/indexing.html#returning-a-view-versus-a-copy\n",
      "  datos['ID'][i] = re.findall(patron,str(datos.Asunto[i].strip()))[0]\n",
      "/usr/lib/python3/dist-packages/pandas/core/indexing.py:670: SettingWithCopyWarning: \n",
      "A value is trying to be set on a copy of a slice from a DataFrame\n",
      "\n",
      "See the caveats in the documentation: https://pandas.pydata.org/pandas-docs/stable/user_guide/indexing.html#returning-a-view-versus-a-copy\n",
      "  iloc._setitem_with_indexer(indexer, value)\n"
     ]
    }
   ],
   "source": [
    "datos['ID'] = 0\n",
    "patron = r'<(\\d{4})|'\n",
    "for i in range(len(datos)):\n",
    "    datos['ID'][i] = re.findall(patron,str(datos.Asunto[i].strip()))[0]"
   ]
  },
  {
   "cell_type": "code",
   "execution_count": 80,
   "metadata": {},
   "outputs": [
    {
     "data": {
      "text/html": [
       "<div>\n",
       "<style scoped>\n",
       "    .dataframe tbody tr th:only-of-type {\n",
       "        vertical-align: middle;\n",
       "    }\n",
       "\n",
       "    .dataframe tbody tr th {\n",
       "        vertical-align: top;\n",
       "    }\n",
       "\n",
       "    .dataframe thead th {\n",
       "        text-align: right;\n",
       "    }\n",
       "</style>\n",
       "<table border=\"1\" class=\"dataframe\">\n",
       "  <thead>\n",
       "    <tr style=\"text-align: right;\">\n",
       "      <th></th>\n",
       "      <th>Fecha / Hora</th>\n",
       "      <th>Asunto</th>\n",
       "      <th>Datetime</th>\n",
       "      <th>ID</th>\n",
       "    </tr>\n",
       "  </thead>\n",
       "  <tbody>\n",
       "    <tr>\n",
       "      <th>0</th>\n",
       "      <td>2022-06-01T11:07:56+00:00</td>\n",
       "      <td>&lt;7569|20220601&gt; Shein - Control Horas</td>\n",
       "      <td>2022-06-01 11:07:56+00:00</td>\n",
       "      <td>7569</td>\n",
       "    </tr>\n",
       "    <tr>\n",
       "      <th>1</th>\n",
       "      <td>2022-06-01T11:25:34+00:00</td>\n",
       "      <td>&lt;7865|20220601&gt; Messer Consolidado Correos</td>\n",
       "      <td>2022-06-01 11:25:34+00:00</td>\n",
       "      <td>7865</td>\n",
       "    </tr>\n",
       "    <tr>\n",
       "      <th>2</th>\n",
       "      <td>2022-06-01T11:26:32+00:00</td>\n",
       "      <td>&lt;6886|20220601&gt; Messer Ocupación Agente</td>\n",
       "      <td>2022-06-01 11:26:32+00:00</td>\n",
       "      <td>6886</td>\n",
       "    </tr>\n",
       "    <tr>\n",
       "      <th>3</th>\n",
       "      <td>2022-06-01T11:30:51+00:00</td>\n",
       "      <td>&lt;6887|20220601&gt; Messer Niveles De Servicio</td>\n",
       "      <td>2022-06-01 11:30:51+00:00</td>\n",
       "      <td>6887</td>\n",
       "    </tr>\n",
       "    <tr>\n",
       "      <th>4</th>\n",
       "      <td>2022-06-01T11:33:21+00:00</td>\n",
       "      <td>&lt;6887|20220601&gt; Messer Niveles De Servicio Chile</td>\n",
       "      <td>2022-06-01 11:33:21+00:00</td>\n",
       "      <td>6887</td>\n",
       "    </tr>\n",
       "    <tr>\n",
       "      <th>...</th>\n",
       "      <td>...</td>\n",
       "      <td>...</td>\n",
       "      <td>...</td>\n",
       "      <td>...</td>\n",
       "    </tr>\n",
       "    <tr>\n",
       "      <th>5378</th>\n",
       "      <td>2022-06-30T20:00:10+00:00</td>\n",
       "      <td>&lt;7408|20220630&gt; BBVA - Reporte Tipificación Ou...</td>\n",
       "      <td>2022-06-30 20:00:10+00:00</td>\n",
       "      <td>7408</td>\n",
       "    </tr>\n",
       "    <tr>\n",
       "      <th>5379</th>\n",
       "      <td>2022-06-30T20:00:46+00:00</td>\n",
       "      <td>&lt;8061|20220630&gt; Cruz Verde Tablero De Control ...</td>\n",
       "      <td>2022-06-30 20:00:46+00:00</td>\n",
       "      <td>8061</td>\n",
       "    </tr>\n",
       "    <tr>\n",
       "      <th>5380</th>\n",
       "      <td>2022-06-30T20:01:10+00:00</td>\n",
       "      <td>&lt;6874|20220630&gt; Cruz Verde Actualización Kpi's...</td>\n",
       "      <td>2022-06-30 20:01:10+00:00</td>\n",
       "      <td>6874</td>\n",
       "    </tr>\n",
       "    <tr>\n",
       "      <th>5381</th>\n",
       "      <td>2022-06-30T20:01:21+00:00</td>\n",
       "      <td>&lt;7689|20220630&gt; Medicarte Tablero De Control J...</td>\n",
       "      <td>2022-06-30 20:01:21+00:00</td>\n",
       "      <td>7689</td>\n",
       "    </tr>\n",
       "    <tr>\n",
       "      <th>5382</th>\n",
       "      <td>2022-06-30T20:01:28+00:00</td>\n",
       "      <td>&lt;6254|20220630&gt; Ceet - Resumen Retenciones</td>\n",
       "      <td>2022-06-30 20:01:28+00:00</td>\n",
       "      <td>6254</td>\n",
       "    </tr>\n",
       "  </tbody>\n",
       "</table>\n",
       "<p>5383 rows × 4 columns</p>\n",
       "</div>"
      ],
      "text/plain": [
       "                   Fecha / Hora  \\\n",
       "0     2022-06-01T11:07:56+00:00   \n",
       "1     2022-06-01T11:25:34+00:00   \n",
       "2     2022-06-01T11:26:32+00:00   \n",
       "3     2022-06-01T11:30:51+00:00   \n",
       "4     2022-06-01T11:33:21+00:00   \n",
       "...                         ...   \n",
       "5378  2022-06-30T20:00:10+00:00   \n",
       "5379  2022-06-30T20:00:46+00:00   \n",
       "5380  2022-06-30T20:01:10+00:00   \n",
       "5381  2022-06-30T20:01:21+00:00   \n",
       "5382  2022-06-30T20:01:28+00:00   \n",
       "\n",
       "                                                 Asunto  \\\n",
       "0                 <7569|20220601> Shein - Control Horas   \n",
       "1            <7865|20220601> Messer Consolidado Correos   \n",
       "2               <6886|20220601> Messer Ocupación Agente   \n",
       "3            <6887|20220601> Messer Niveles De Servicio   \n",
       "4      <6887|20220601> Messer Niveles De Servicio Chile   \n",
       "...                                                 ...   \n",
       "5378  <7408|20220630> BBVA - Reporte Tipificación Ou...   \n",
       "5379  <8061|20220630> Cruz Verde Tablero De Control ...   \n",
       "5380  <6874|20220630> Cruz Verde Actualización Kpi's...   \n",
       "5381  <7689|20220630> Medicarte Tablero De Control J...   \n",
       "5382         <6254|20220630> Ceet - Resumen Retenciones   \n",
       "\n",
       "                      Datetime    ID  \n",
       "0    2022-06-01 11:07:56+00:00  7569  \n",
       "1    2022-06-01 11:25:34+00:00  7865  \n",
       "2    2022-06-01 11:26:32+00:00  6886  \n",
       "3    2022-06-01 11:30:51+00:00  6887  \n",
       "4    2022-06-01 11:33:21+00:00  6887  \n",
       "...                        ...   ...  \n",
       "5378 2022-06-30 20:00:10+00:00  7408  \n",
       "5379 2022-06-30 20:00:46+00:00  8061  \n",
       "5380 2022-06-30 20:01:10+00:00  6874  \n",
       "5381 2022-06-30 20:01:21+00:00  7689  \n",
       "5382 2022-06-30 20:01:28+00:00  6254  \n",
       "\n",
       "[5383 rows x 4 columns]"
      ]
     },
     "execution_count": 80,
     "metadata": {},
     "output_type": "execute_result"
    }
   ],
   "source": [
    "datos"
   ]
  }
 ],
 "metadata": {
  "kernelspec": {
   "display_name": "Python 3.9.2 64-bit",
   "language": "python",
   "name": "python3"
  },
  "language_info": {
   "codemirror_mode": {
    "name": "ipython",
    "version": 3
   },
   "file_extension": ".py",
   "mimetype": "text/x-python",
   "name": "python",
   "nbconvert_exporter": "python",
   "pygments_lexer": "ipython3",
   "version": "3.9.2"
  },
  "orig_nbformat": 4,
  "vscode": {
   "interpreter": {
    "hash": "916dbcbb3f70747c44a77c7bcd40155683ae19c65e1c03b4aa3499c5328201f1"
   }
  }
 },
 "nbformat": 4,
 "nbformat_minor": 2
}

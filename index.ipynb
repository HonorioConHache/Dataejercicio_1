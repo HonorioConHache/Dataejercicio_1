{
 "cells": [
  {
   "cell_type": "markdown",
   "metadata": {},
   "source": [
    "## Librerias."
   ]
  },
  {
   "cell_type": "code",
   "execution_count": 123,
   "metadata": {},
   "outputs": [],
   "source": [
    "import pandas as pd\n",
    "from pandas import DataFrame\n",
    "import numpy as np\n",
    "from datetime import datetime, timedelta\n",
    "import re"
   ]
  },
  {
   "cell_type": "markdown",
   "metadata": {},
   "source": [
    "## Carga de datos"
   ]
  },
  {
   "cell_type": "code",
   "execution_count": 124,
   "metadata": {},
   "outputs": [
    {
     "data": {
      "text/html": [
       "<div>\n",
       "<style scoped>\n",
       "    .dataframe tbody tr th:only-of-type {\n",
       "        vertical-align: middle;\n",
       "    }\n",
       "\n",
       "    .dataframe tbody tr th {\n",
       "        vertical-align: top;\n",
       "    }\n",
       "\n",
       "    .dataframe thead th {\n",
       "        text-align: right;\n",
       "    }\n",
       "</style>\n",
       "<table border=\"1\" class=\"dataframe\">\n",
       "  <thead>\n",
       "    <tr style=\"text-align: right;\">\n",
       "      <th></th>\n",
       "      <th>Fecha / Hora</th>\n",
       "      <th>Asunto</th>\n",
       "    </tr>\n",
       "  </thead>\n",
       "  <tbody>\n",
       "    <tr>\n",
       "      <th>0</th>\n",
       "      <td>2022-06-01T11:07:56+00:00</td>\n",
       "      <td>&lt;7569|20220601&gt; Shein - Control Horas</td>\n",
       "    </tr>\n",
       "    <tr>\n",
       "      <th>1</th>\n",
       "      <td>2022-06-01T11:25:34+00:00</td>\n",
       "      <td>&lt;7865|20220601&gt; Messer Consolidado Correos</td>\n",
       "    </tr>\n",
       "    <tr>\n",
       "      <th>2</th>\n",
       "      <td>2022-06-01T11:26:32+00:00</td>\n",
       "      <td>&lt;6886|20220601&gt; Messer Ocupación Agente</td>\n",
       "    </tr>\n",
       "    <tr>\n",
       "      <th>3</th>\n",
       "      <td>2022-06-01T11:30:51+00:00</td>\n",
       "      <td>&lt;6887|20220601&gt; Messer Niveles De Servicio</td>\n",
       "    </tr>\n",
       "    <tr>\n",
       "      <th>4</th>\n",
       "      <td>2022-06-01T11:33:21+00:00</td>\n",
       "      <td>&lt;6887|20220601&gt; Messer Niveles De Servicio Chile</td>\n",
       "    </tr>\n",
       "    <tr>\n",
       "      <th>5</th>\n",
       "      <td>2022-06-01T11:37:53+00:00</td>\n",
       "      <td>&lt;7776|20220601&gt; BBVA - BBVA EMPRESAS Recuperac...</td>\n",
       "    </tr>\n",
       "    <tr>\n",
       "      <th>6</th>\n",
       "      <td>2022-06-01T11:51:01+00:00</td>\n",
       "      <td>&lt;6885|20220601&gt; Messer 5/15</td>\n",
       "    </tr>\n",
       "    <tr>\n",
       "      <th>7</th>\n",
       "      <td>2022-06-01T12:00:26+00:00</td>\n",
       "      <td>&lt;7745|20220601&gt; Pichincha IVR</td>\n",
       "    </tr>\n",
       "    <tr>\n",
       "      <th>8</th>\n",
       "      <td>2022-06-01T12:00:30+00:00</td>\n",
       "      <td>&lt;6867|20220601&gt; Cruz Verde Informe Diario Juni...</td>\n",
       "    </tr>\n",
       "    <tr>\n",
       "      <th>9</th>\n",
       "      <td>2022-06-01T12:17:21+00:00</td>\n",
       "      <td>&lt;6867|20220601&gt; Cruz Verde Informe Diario Juni...</td>\n",
       "    </tr>\n",
       "  </tbody>\n",
       "</table>\n",
       "</div>"
      ],
      "text/plain": [
       "                Fecha / Hora  \\\n",
       "0  2022-06-01T11:07:56+00:00   \n",
       "1  2022-06-01T11:25:34+00:00   \n",
       "2  2022-06-01T11:26:32+00:00   \n",
       "3  2022-06-01T11:30:51+00:00   \n",
       "4  2022-06-01T11:33:21+00:00   \n",
       "5  2022-06-01T11:37:53+00:00   \n",
       "6  2022-06-01T11:51:01+00:00   \n",
       "7  2022-06-01T12:00:26+00:00   \n",
       "8  2022-06-01T12:00:30+00:00   \n",
       "9  2022-06-01T12:17:21+00:00   \n",
       "\n",
       "                                              Asunto  \n",
       "0              <7569|20220601> Shein - Control Horas  \n",
       "1         <7865|20220601> Messer Consolidado Correos  \n",
       "2            <6886|20220601> Messer Ocupación Agente  \n",
       "3         <6887|20220601> Messer Niveles De Servicio  \n",
       "4   <6887|20220601> Messer Niveles De Servicio Chile  \n",
       "5  <7776|20220601> BBVA - BBVA EMPRESAS Recuperac...  \n",
       "6                        <6885|20220601> Messer 5/15  \n",
       "7                      <7745|20220601> Pichincha IVR  \n",
       "8  <6867|20220601> Cruz Verde Informe Diario Juni...  \n",
       "9  <6867|20220601> Cruz Verde Informe Diario Juni...  "
      ]
     },
     "execution_count": 124,
     "metadata": {},
     "output_type": "execute_result"
    }
   ],
   "source": [
    "data_origin = pd.read_excel('Puntualidad Bogotá.xlsx')\n",
    "datos = DataFrame(data_origin.copy())\n",
    "datos.head(10)"
   ]
  },
  {
   "cell_type": "markdown",
   "metadata": {},
   "source": [
    "## Tipos de datos."
   ]
  },
  {
   "cell_type": "code",
   "execution_count": 125,
   "metadata": {},
   "outputs": [
    {
     "data": {
      "text/plain": [
       "Fecha / Hora    object\n",
       "Asunto          object\n",
       "dtype: object"
      ]
     },
     "execution_count": 125,
     "metadata": {},
     "output_type": "execute_result"
    }
   ],
   "source": [
    "datos.dtypes"
   ]
  },
  {
   "cell_type": "markdown",
   "metadata": {},
   "source": [
    "## Dimenciones del dataframe."
   ]
  },
  {
   "cell_type": "code",
   "execution_count": 126,
   "metadata": {},
   "outputs": [
    {
     "data": {
      "text/plain": [
       "(5383, 2)"
      ]
     },
     "execution_count": 126,
     "metadata": {},
     "output_type": "execute_result"
    }
   ],
   "source": [
    "datos.shape"
   ]
  },
  {
   "cell_type": "markdown",
   "metadata": {},
   "source": [
    "## Datos faltantes."
   ]
  },
  {
   "cell_type": "code",
   "execution_count": 127,
   "metadata": {},
   "outputs": [
    {
     "data": {
      "text/plain": [
       "Fecha / Hora    0\n",
       "Asunto          0\n",
       "dtype: int64"
      ]
     },
     "execution_count": 127,
     "metadata": {},
     "output_type": "execute_result"
    }
   ],
   "source": [
    "datos_faltantes = datos.isnull().sum().sort_values(ascending=True)\n",
    "datos_faltantes"
   ]
  },
  {
   "cell_type": "markdown",
   "metadata": {},
   "source": [
    "## Porcentajes de datos faltantes por columna."
   ]
  },
  {
   "cell_type": "code",
   "execution_count": 128,
   "metadata": {},
   "outputs": [
    {
     "name": "stdout",
     "output_type": "stream",
     "text": [
      "Fecha / Hora = 0.0\n",
      "Asunto = 0.0\n"
     ]
    }
   ],
   "source": [
    "for column in datos.columns:\n",
    "    porcentaje_faltantes = datos[column].isnull().mean()\n",
    "    print(column, '=', round(porcentaje_faltantes*100,2))"
   ]
  },
  {
   "cell_type": "markdown",
   "metadata": {},
   "source": [
    "## Convertir la columna tipo object a datetime64 en una nueva columna."
   ]
  },
  {
   "cell_type": "code",
   "execution_count": 129,
   "metadata": {},
   "outputs": [
    {
     "data": {
      "text/plain": [
       "Fecha / Hora    datetime64[ns, UTC]\n",
       "Asunto                       object\n",
       "dtype: object"
      ]
     },
     "execution_count": 129,
     "metadata": {},
     "output_type": "execute_result"
    }
   ],
   "source": [
    "datos['Fecha / Hora'] = pd.to_datetime(datos['Fecha / Hora'])\n",
    "\n",
    "datos.dtypes"
   ]
  },
  {
   "cell_type": "code",
   "execution_count": 130,
   "metadata": {},
   "outputs": [
    {
     "data": {
      "text/html": [
       "<div>\n",
       "<style scoped>\n",
       "    .dataframe tbody tr th:only-of-type {\n",
       "        vertical-align: middle;\n",
       "    }\n",
       "\n",
       "    .dataframe tbody tr th {\n",
       "        vertical-align: top;\n",
       "    }\n",
       "\n",
       "    .dataframe thead th {\n",
       "        text-align: right;\n",
       "    }\n",
       "</style>\n",
       "<table border=\"1\" class=\"dataframe\">\n",
       "  <thead>\n",
       "    <tr style=\"text-align: right;\">\n",
       "      <th></th>\n",
       "      <th>Fecha / Hora</th>\n",
       "      <th>Asunto</th>\n",
       "    </tr>\n",
       "  </thead>\n",
       "  <tbody>\n",
       "    <tr>\n",
       "      <th>0</th>\n",
       "      <td>2022-06-01 11:07:56+00:00</td>\n",
       "      <td>&lt;7569|20220601&gt; Shein - Control Horas</td>\n",
       "    </tr>\n",
       "    <tr>\n",
       "      <th>1</th>\n",
       "      <td>2022-06-01 11:25:34+00:00</td>\n",
       "      <td>&lt;7865|20220601&gt; Messer Consolidado Correos</td>\n",
       "    </tr>\n",
       "    <tr>\n",
       "      <th>2</th>\n",
       "      <td>2022-06-01 11:26:32+00:00</td>\n",
       "      <td>&lt;6886|20220601&gt; Messer Ocupación Agente</td>\n",
       "    </tr>\n",
       "    <tr>\n",
       "      <th>3</th>\n",
       "      <td>2022-06-01 11:30:51+00:00</td>\n",
       "      <td>&lt;6887|20220601&gt; Messer Niveles De Servicio</td>\n",
       "    </tr>\n",
       "    <tr>\n",
       "      <th>4</th>\n",
       "      <td>2022-06-01 11:33:21+00:00</td>\n",
       "      <td>&lt;6887|20220601&gt; Messer Niveles De Servicio Chile</td>\n",
       "    </tr>\n",
       "    <tr>\n",
       "      <th>5</th>\n",
       "      <td>2022-06-01 11:37:53+00:00</td>\n",
       "      <td>&lt;7776|20220601&gt; BBVA - BBVA EMPRESAS Recuperac...</td>\n",
       "    </tr>\n",
       "    <tr>\n",
       "      <th>6</th>\n",
       "      <td>2022-06-01 11:51:01+00:00</td>\n",
       "      <td>&lt;6885|20220601&gt; Messer 5/15</td>\n",
       "    </tr>\n",
       "    <tr>\n",
       "      <th>7</th>\n",
       "      <td>2022-06-01 12:00:26+00:00</td>\n",
       "      <td>&lt;7745|20220601&gt; Pichincha IVR</td>\n",
       "    </tr>\n",
       "    <tr>\n",
       "      <th>8</th>\n",
       "      <td>2022-06-01 12:00:30+00:00</td>\n",
       "      <td>&lt;6867|20220601&gt; Cruz Verde Informe Diario Juni...</td>\n",
       "    </tr>\n",
       "    <tr>\n",
       "      <th>9</th>\n",
       "      <td>2022-06-01 12:17:21+00:00</td>\n",
       "      <td>&lt;6867|20220601&gt; Cruz Verde Informe Diario Juni...</td>\n",
       "    </tr>\n",
       "  </tbody>\n",
       "</table>\n",
       "</div>"
      ],
      "text/plain": [
       "               Fecha / Hora                                             Asunto\n",
       "0 2022-06-01 11:07:56+00:00              <7569|20220601> Shein - Control Horas\n",
       "1 2022-06-01 11:25:34+00:00         <7865|20220601> Messer Consolidado Correos\n",
       "2 2022-06-01 11:26:32+00:00            <6886|20220601> Messer Ocupación Agente\n",
       "3 2022-06-01 11:30:51+00:00         <6887|20220601> Messer Niveles De Servicio\n",
       "4 2022-06-01 11:33:21+00:00   <6887|20220601> Messer Niveles De Servicio Chile\n",
       "5 2022-06-01 11:37:53+00:00  <7776|20220601> BBVA - BBVA EMPRESAS Recuperac...\n",
       "6 2022-06-01 11:51:01+00:00                        <6885|20220601> Messer 5/15\n",
       "7 2022-06-01 12:00:26+00:00                      <7745|20220601> Pichincha IVR\n",
       "8 2022-06-01 12:00:30+00:00  <6867|20220601> Cruz Verde Informe Diario Juni...\n",
       "9 2022-06-01 12:17:21+00:00  <6867|20220601> Cruz Verde Informe Diario Juni..."
      ]
     },
     "execution_count": 130,
     "metadata": {},
     "output_type": "execute_result"
    }
   ],
   "source": [
    "datos.head(10)"
   ]
  },
  {
   "cell_type": "markdown",
   "metadata": {},
   "source": [
    "## Identificar los ID."
   ]
  },
  {
   "cell_type": "code",
   "execution_count": 131,
   "metadata": {},
   "outputs": [
    {
     "data": {
      "text/html": [
       "<div>\n",
       "<style scoped>\n",
       "    .dataframe tbody tr th:only-of-type {\n",
       "        vertical-align: middle;\n",
       "    }\n",
       "\n",
       "    .dataframe tbody tr th {\n",
       "        vertical-align: top;\n",
       "    }\n",
       "\n",
       "    .dataframe thead th {\n",
       "        text-align: right;\n",
       "    }\n",
       "</style>\n",
       "<table border=\"1\" class=\"dataframe\">\n",
       "  <thead>\n",
       "    <tr style=\"text-align: right;\">\n",
       "      <th></th>\n",
       "      <th>Fecha / Hora</th>\n",
       "      <th>Asunto</th>\n",
       "      <th>ID</th>\n",
       "    </tr>\n",
       "  </thead>\n",
       "  <tbody>\n",
       "    <tr>\n",
       "      <th>495</th>\n",
       "      <td>2022-06-02 18:46:42+00:00</td>\n",
       "      <td>&lt;6621|20220602&gt; Ceet Penetración Combos Junio ...</td>\n",
       "      <td>6621</td>\n",
       "    </tr>\n",
       "    <tr>\n",
       "      <th>496</th>\n",
       "      <td>2022-06-02 19:00:09+00:00</td>\n",
       "      <td>&lt;7815|20220602&gt; ETB CD Reporte de Tiempos</td>\n",
       "      <td>7815</td>\n",
       "    </tr>\n",
       "    <tr>\n",
       "      <th>497</th>\n",
       "      <td>2022-06-02 19:03:38+00:00</td>\n",
       "      <td>&lt;8028|20220602&gt; Banmedica - Tablero de Control...</td>\n",
       "      <td>8028</td>\n",
       "    </tr>\n",
       "    <tr>\n",
       "      <th>498</th>\n",
       "      <td>2022-06-02 19:04:01+00:00</td>\n",
       "      <td>&lt;7835|20220602&gt; Sena - Redes Sociales</td>\n",
       "      <td>7835</td>\n",
       "    </tr>\n",
       "    <tr>\n",
       "      <th>499</th>\n",
       "      <td>2022-06-02 19:07:37+00:00</td>\n",
       "      <td>&lt;7748|20220602&gt; Liberty Informe Coomeva</td>\n",
       "      <td>7748</td>\n",
       "    </tr>\n",
       "    <tr>\n",
       "      <th>500</th>\n",
       "      <td>2022-06-02 19:12:39+00:00</td>\n",
       "      <td>&lt;7459|20220602&gt; BBVA - Reporte Irene Seguros</td>\n",
       "      <td>7459</td>\n",
       "    </tr>\n",
       "    <tr>\n",
       "      <th>501</th>\n",
       "      <td>2022-06-02 19:13:14+00:00</td>\n",
       "      <td>Informe Bo &lt;6532|20220602&gt;</td>\n",
       "      <td>6532</td>\n",
       "    </tr>\n",
       "    <tr>\n",
       "      <th>502</th>\n",
       "      <td>2022-06-02 19:28:54+00:00</td>\n",
       "      <td>&lt;|20220602&gt; Sena - Reporte de Satisfacción de ...</td>\n",
       "      <td>NaN</td>\n",
       "    </tr>\n",
       "    <tr>\n",
       "      <th>503</th>\n",
       "      <td>2022-06-02 19:30:40+00:00</td>\n",
       "      <td>&lt;7940|20220602&gt; Ceet Informe Ventas caídas - r...</td>\n",
       "      <td>7940</td>\n",
       "    </tr>\n",
       "    <tr>\n",
       "      <th>504</th>\n",
       "      <td>2022-06-02 19:31:13+00:00</td>\n",
       "      <td>RE: &lt;7459|20220602&gt; BBVA - Reporte Irene Seguros</td>\n",
       "      <td>7459</td>\n",
       "    </tr>\n",
       "  </tbody>\n",
       "</table>\n",
       "</div>"
      ],
      "text/plain": [
       "                 Fecha / Hora  \\\n",
       "495 2022-06-02 18:46:42+00:00   \n",
       "496 2022-06-02 19:00:09+00:00   \n",
       "497 2022-06-02 19:03:38+00:00   \n",
       "498 2022-06-02 19:04:01+00:00   \n",
       "499 2022-06-02 19:07:37+00:00   \n",
       "500 2022-06-02 19:12:39+00:00   \n",
       "501 2022-06-02 19:13:14+00:00   \n",
       "502 2022-06-02 19:28:54+00:00   \n",
       "503 2022-06-02 19:30:40+00:00   \n",
       "504 2022-06-02 19:31:13+00:00   \n",
       "\n",
       "                                                Asunto    ID  \n",
       "495  <6621|20220602> Ceet Penetración Combos Junio ...  6621  \n",
       "496          <7815|20220602> ETB CD Reporte de Tiempos  7815  \n",
       "497  <8028|20220602> Banmedica - Tablero de Control...  8028  \n",
       "498              <7835|20220602> Sena - Redes Sociales  7835  \n",
       "499            <7748|20220602> Liberty Informe Coomeva  7748  \n",
       "500       <7459|20220602> BBVA - Reporte Irene Seguros  7459  \n",
       "501                         Informe Bo <6532|20220602>  6532  \n",
       "502  <|20220602> Sena - Reporte de Satisfacción de ...   NaN  \n",
       "503  <7940|20220602> Ceet Informe Ventas caídas - r...  7940  \n",
       "504   RE: <7459|20220602> BBVA - Reporte Irene Seguros  7459  "
      ]
     },
     "execution_count": 131,
     "metadata": {},
     "output_type": "execute_result"
    }
   ],
   "source": [
    "datos['ID'] = datos['Asunto'].str.partition('|')[0].str.extract('(\\d{4})')\n",
    "datos[495:505]"
   ]
  },
  {
   "cell_type": "markdown",
   "metadata": {},
   "source": [
    "## Identificando los datos faltantes por ID."
   ]
  },
  {
   "cell_type": "code",
   "execution_count": 132,
   "metadata": {},
   "outputs": [
    {
     "data": {
      "text/plain": [
       "Fecha / Hora     0\n",
       "Asunto           0\n",
       "ID              37\n",
       "dtype: int64"
      ]
     },
     "execution_count": 132,
     "metadata": {},
     "output_type": "execute_result"
    }
   ],
   "source": [
    "datos_faltantes = datos.isnull().sum().sort_values(ascending=True)\n",
    "datos_faltantes"
   ]
  },
  {
   "cell_type": "markdown",
   "metadata": {},
   "source": [
    "## Eliminar fila de ID faltante."
   ]
  },
  {
   "cell_type": "code",
   "execution_count": 133,
   "metadata": {},
   "outputs": [],
   "source": [
    "\n",
    "# datos_faltantes = datos.isnull().sum().sort_values(ascending=True)\n",
    "# datos_faltantes\n",
    "datos = datos[~(datos['ID'].isnull())]"
   ]
  },
  {
   "cell_type": "markdown",
   "metadata": {},
   "source": [
    "## Porcentajes de ID faltantes"
   ]
  },
  {
   "cell_type": "code",
   "execution_count": 134,
   "metadata": {},
   "outputs": [
    {
     "name": "stdout",
     "output_type": "stream",
     "text": [
      "Fecha / Hora = 0.0\n",
      "Asunto = 0.0\n",
      "ID = 0.0\n"
     ]
    }
   ],
   "source": [
    "for column in datos.columns:\n",
    "    porcentaje_faltantes = datos[column].isnull().mean()\n",
    "    print(column, '=', round(porcentaje_faltantes*100,2))"
   ]
  },
  {
   "cell_type": "markdown",
   "metadata": {},
   "source": [
    "## Extraer comentario."
   ]
  },
  {
   "cell_type": "code",
   "execution_count": 135,
   "metadata": {},
   "outputs": [],
   "source": [
    "# extraer_comentario = lambda x: \"\".join(re.findall(\"[a-z A-Z]\",str(x).strip()))\n",
    "\n",
    "extraer_comentario = lambda x: re.sub(\"\\<.*?\\>\",\"\",x)\n",
    "datos['Comentario'] = datos['Asunto'].apply(extraer_comentario).str.strip()\n",
    "\n"
   ]
  },
  {
   "cell_type": "markdown",
   "metadata": {},
   "source": [
    "## Eliminamos la columna 'Asunto'."
   ]
  },
  {
   "cell_type": "code",
   "execution_count": 136,
   "metadata": {},
   "outputs": [
    {
     "data": {
      "text/html": [
       "<div>\n",
       "<style scoped>\n",
       "    .dataframe tbody tr th:only-of-type {\n",
       "        vertical-align: middle;\n",
       "    }\n",
       "\n",
       "    .dataframe tbody tr th {\n",
       "        vertical-align: top;\n",
       "    }\n",
       "\n",
       "    .dataframe thead th {\n",
       "        text-align: right;\n",
       "    }\n",
       "</style>\n",
       "<table border=\"1\" class=\"dataframe\">\n",
       "  <thead>\n",
       "    <tr style=\"text-align: right;\">\n",
       "      <th></th>\n",
       "      <th>Fecha / Hora</th>\n",
       "      <th>Asunto</th>\n",
       "      <th>ID</th>\n",
       "      <th>Comentario</th>\n",
       "    </tr>\n",
       "  </thead>\n",
       "  <tbody>\n",
       "    <tr>\n",
       "      <th>0</th>\n",
       "      <td>2022-06-01 11:07:56+00:00</td>\n",
       "      <td>&lt;7569|20220601&gt; Shein - Control Horas</td>\n",
       "      <td>7569</td>\n",
       "      <td>Shein - Control Horas</td>\n",
       "    </tr>\n",
       "    <tr>\n",
       "      <th>1</th>\n",
       "      <td>2022-06-01 11:25:34+00:00</td>\n",
       "      <td>&lt;7865|20220601&gt; Messer Consolidado Correos</td>\n",
       "      <td>7865</td>\n",
       "      <td>Messer Consolidado Correos</td>\n",
       "    </tr>\n",
       "    <tr>\n",
       "      <th>2</th>\n",
       "      <td>2022-06-01 11:26:32+00:00</td>\n",
       "      <td>&lt;6886|20220601&gt; Messer Ocupación Agente</td>\n",
       "      <td>6886</td>\n",
       "      <td>Messer Ocupación Agente</td>\n",
       "    </tr>\n",
       "    <tr>\n",
       "      <th>3</th>\n",
       "      <td>2022-06-01 11:30:51+00:00</td>\n",
       "      <td>&lt;6887|20220601&gt; Messer Niveles De Servicio</td>\n",
       "      <td>6887</td>\n",
       "      <td>Messer Niveles De Servicio</td>\n",
       "    </tr>\n",
       "    <tr>\n",
       "      <th>4</th>\n",
       "      <td>2022-06-01 11:33:21+00:00</td>\n",
       "      <td>&lt;6887|20220601&gt; Messer Niveles De Servicio Chile</td>\n",
       "      <td>6887</td>\n",
       "      <td>Messer Niveles De Servicio Chile</td>\n",
       "    </tr>\n",
       "    <tr>\n",
       "      <th>...</th>\n",
       "      <td>...</td>\n",
       "      <td>...</td>\n",
       "      <td>...</td>\n",
       "      <td>...</td>\n",
       "    </tr>\n",
       "    <tr>\n",
       "      <th>5378</th>\n",
       "      <td>2022-06-30 20:00:10+00:00</td>\n",
       "      <td>&lt;7408|20220630&gt; BBVA - Reporte Tipificación Ou...</td>\n",
       "      <td>7408</td>\n",
       "      <td>BBVA - Reporte Tipificación Outbound</td>\n",
       "    </tr>\n",
       "    <tr>\n",
       "      <th>5379</th>\n",
       "      <td>2022-06-30 20:00:46+00:00</td>\n",
       "      <td>&lt;8061|20220630&gt; Cruz Verde Tablero De Control ...</td>\n",
       "      <td>8061</td>\n",
       "      <td>Cruz Verde Tablero De Control Unificado Junio ...</td>\n",
       "    </tr>\n",
       "    <tr>\n",
       "      <th>5380</th>\n",
       "      <td>2022-06-30 20:01:10+00:00</td>\n",
       "      <td>&lt;6874|20220630&gt; Cruz Verde Actualización Kpi's...</td>\n",
       "      <td>6874</td>\n",
       "      <td>Cruz Verde Actualización Kpi's Junio 20220629</td>\n",
       "    </tr>\n",
       "    <tr>\n",
       "      <th>5381</th>\n",
       "      <td>2022-06-30 20:01:21+00:00</td>\n",
       "      <td>&lt;7689|20220630&gt; Medicarte Tablero De Control J...</td>\n",
       "      <td>7689</td>\n",
       "      <td>Medicarte Tablero De Control Junio 20220629</td>\n",
       "    </tr>\n",
       "    <tr>\n",
       "      <th>5382</th>\n",
       "      <td>2022-06-30 20:01:28+00:00</td>\n",
       "      <td>&lt;6254|20220630&gt; Ceet - Resumen Retenciones</td>\n",
       "      <td>6254</td>\n",
       "      <td>Ceet - Resumen Retenciones</td>\n",
       "    </tr>\n",
       "  </tbody>\n",
       "</table>\n",
       "<p>5346 rows × 4 columns</p>\n",
       "</div>"
      ],
      "text/plain": [
       "                  Fecha / Hora  \\\n",
       "0    2022-06-01 11:07:56+00:00   \n",
       "1    2022-06-01 11:25:34+00:00   \n",
       "2    2022-06-01 11:26:32+00:00   \n",
       "3    2022-06-01 11:30:51+00:00   \n",
       "4    2022-06-01 11:33:21+00:00   \n",
       "...                        ...   \n",
       "5378 2022-06-30 20:00:10+00:00   \n",
       "5379 2022-06-30 20:00:46+00:00   \n",
       "5380 2022-06-30 20:01:10+00:00   \n",
       "5381 2022-06-30 20:01:21+00:00   \n",
       "5382 2022-06-30 20:01:28+00:00   \n",
       "\n",
       "                                                 Asunto    ID  \\\n",
       "0                 <7569|20220601> Shein - Control Horas  7569   \n",
       "1            <7865|20220601> Messer Consolidado Correos  7865   \n",
       "2               <6886|20220601> Messer Ocupación Agente  6886   \n",
       "3            <6887|20220601> Messer Niveles De Servicio  6887   \n",
       "4      <6887|20220601> Messer Niveles De Servicio Chile  6887   \n",
       "...                                                 ...   ...   \n",
       "5378  <7408|20220630> BBVA - Reporte Tipificación Ou...  7408   \n",
       "5379  <8061|20220630> Cruz Verde Tablero De Control ...  8061   \n",
       "5380  <6874|20220630> Cruz Verde Actualización Kpi's...  6874   \n",
       "5381  <7689|20220630> Medicarte Tablero De Control J...  7689   \n",
       "5382         <6254|20220630> Ceet - Resumen Retenciones  6254   \n",
       "\n",
       "                                             Comentario  \n",
       "0                                 Shein - Control Horas  \n",
       "1                            Messer Consolidado Correos  \n",
       "2                               Messer Ocupación Agente  \n",
       "3                            Messer Niveles De Servicio  \n",
       "4                      Messer Niveles De Servicio Chile  \n",
       "...                                                 ...  \n",
       "5378               BBVA - Reporte Tipificación Outbound  \n",
       "5379  Cruz Verde Tablero De Control Unificado Junio ...  \n",
       "5380      Cruz Verde Actualización Kpi's Junio 20220629  \n",
       "5381        Medicarte Tablero De Control Junio 20220629  \n",
       "5382                         Ceet - Resumen Retenciones  \n",
       "\n",
       "[5346 rows x 4 columns]"
      ]
     },
     "execution_count": 136,
     "metadata": {},
     "output_type": "execute_result"
    }
   ],
   "source": [
    "# datos = datos.drop(datos.columns[[1]], axis=1)\n",
    "datos = datos.drop(columns=['Asunto'])\n",
    "datos.to_csv('DatosLimpios.csv')\n",
    "datos"
   ]
  },
  {
   "cell_type": "code",
   "execution_count": 137,
   "metadata": {},
   "outputs": [
    {
     "data": {
      "text/html": [
       "<div>\n",
       "<style scoped>\n",
       "    .dataframe tbody tr th:only-of-type {\n",
       "        vertical-align: middle;\n",
       "    }\n",
       "\n",
       "    .dataframe tbody tr th {\n",
       "        vertical-align: top;\n",
       "    }\n",
       "\n",
       "    .dataframe thead th {\n",
       "        text-align: right;\n",
       "    }\n",
       "</style>\n",
       "<table border=\"1\" class=\"dataframe\">\n",
       "  <thead>\n",
       "    <tr style=\"text-align: right;\">\n",
       "      <th></th>\n",
       "      <th>Fecha / Hora</th>\n",
       "      <th>Asunto</th>\n",
       "      <th>Comentario</th>\n",
       "    </tr>\n",
       "    <tr>\n",
       "      <th>ID</th>\n",
       "      <th></th>\n",
       "      <th></th>\n",
       "      <th></th>\n",
       "    </tr>\n",
       "  </thead>\n",
       "  <tbody>\n",
       "    <tr>\n",
       "      <th>7569</th>\n",
       "      <td>2022-06-01 11:07:56+00:00</td>\n",
       "      <td>&lt;7569|20220601&gt; Shein - Control Horas</td>\n",
       "      <td>Shein - Control Horas</td>\n",
       "    </tr>\n",
       "    <tr>\n",
       "      <th>7865</th>\n",
       "      <td>2022-06-01 11:25:34+00:00</td>\n",
       "      <td>&lt;7865|20220601&gt; Messer Consolidado Correos</td>\n",
       "      <td>Messer Consolidado Correos</td>\n",
       "    </tr>\n",
       "    <tr>\n",
       "      <th>6886</th>\n",
       "      <td>2022-06-01 11:26:32+00:00</td>\n",
       "      <td>&lt;6886|20220601&gt; Messer Ocupación Agente</td>\n",
       "      <td>Messer Ocupación Agente</td>\n",
       "    </tr>\n",
       "    <tr>\n",
       "      <th>6887</th>\n",
       "      <td>2022-06-01 11:30:51+00:00</td>\n",
       "      <td>&lt;6887|20220601&gt; Messer Niveles De Servicio</td>\n",
       "      <td>Messer Niveles De Servicio</td>\n",
       "    </tr>\n",
       "    <tr>\n",
       "      <th>6887</th>\n",
       "      <td>2022-06-01 11:33:21+00:00</td>\n",
       "      <td>&lt;6887|20220601&gt; Messer Niveles De Servicio Chile</td>\n",
       "      <td>Messer Niveles De Servicio Chile</td>\n",
       "    </tr>\n",
       "    <tr>\n",
       "      <th>...</th>\n",
       "      <td>...</td>\n",
       "      <td>...</td>\n",
       "      <td>...</td>\n",
       "    </tr>\n",
       "    <tr>\n",
       "      <th>7408</th>\n",
       "      <td>2022-06-30 20:00:10+00:00</td>\n",
       "      <td>&lt;7408|20220630&gt; BBVA - Reporte Tipificación Ou...</td>\n",
       "      <td>BBVA - Reporte Tipificación Outbound</td>\n",
       "    </tr>\n",
       "    <tr>\n",
       "      <th>8061</th>\n",
       "      <td>2022-06-30 20:00:46+00:00</td>\n",
       "      <td>&lt;8061|20220630&gt; Cruz Verde Tablero De Control ...</td>\n",
       "      <td>Cruz Verde Tablero De Control Unificado Junio ...</td>\n",
       "    </tr>\n",
       "    <tr>\n",
       "      <th>6874</th>\n",
       "      <td>2022-06-30 20:01:10+00:00</td>\n",
       "      <td>&lt;6874|20220630&gt; Cruz Verde Actualización Kpi's...</td>\n",
       "      <td>Cruz Verde Actualización Kpi's Junio 20220629</td>\n",
       "    </tr>\n",
       "    <tr>\n",
       "      <th>7689</th>\n",
       "      <td>2022-06-30 20:01:21+00:00</td>\n",
       "      <td>&lt;7689|20220630&gt; Medicarte Tablero De Control J...</td>\n",
       "      <td>Medicarte Tablero De Control Junio 20220629</td>\n",
       "    </tr>\n",
       "    <tr>\n",
       "      <th>6254</th>\n",
       "      <td>2022-06-30 20:01:28+00:00</td>\n",
       "      <td>&lt;6254|20220630&gt; Ceet - Resumen Retenciones</td>\n",
       "      <td>Ceet - Resumen Retenciones</td>\n",
       "    </tr>\n",
       "  </tbody>\n",
       "</table>\n",
       "<p>5346 rows × 3 columns</p>\n",
       "</div>"
      ],
      "text/plain": [
       "                  Fecha / Hora  \\\n",
       "ID                               \n",
       "7569 2022-06-01 11:07:56+00:00   \n",
       "7865 2022-06-01 11:25:34+00:00   \n",
       "6886 2022-06-01 11:26:32+00:00   \n",
       "6887 2022-06-01 11:30:51+00:00   \n",
       "6887 2022-06-01 11:33:21+00:00   \n",
       "...                        ...   \n",
       "7408 2022-06-30 20:00:10+00:00   \n",
       "8061 2022-06-30 20:00:46+00:00   \n",
       "6874 2022-06-30 20:01:10+00:00   \n",
       "7689 2022-06-30 20:01:21+00:00   \n",
       "6254 2022-06-30 20:01:28+00:00   \n",
       "\n",
       "                                                 Asunto  \\\n",
       "ID                                                        \n",
       "7569              <7569|20220601> Shein - Control Horas   \n",
       "7865         <7865|20220601> Messer Consolidado Correos   \n",
       "6886            <6886|20220601> Messer Ocupación Agente   \n",
       "6887         <6887|20220601> Messer Niveles De Servicio   \n",
       "6887   <6887|20220601> Messer Niveles De Servicio Chile   \n",
       "...                                                 ...   \n",
       "7408  <7408|20220630> BBVA - Reporte Tipificación Ou...   \n",
       "8061  <8061|20220630> Cruz Verde Tablero De Control ...   \n",
       "6874  <6874|20220630> Cruz Verde Actualización Kpi's...   \n",
       "7689  <7689|20220630> Medicarte Tablero De Control J...   \n",
       "6254         <6254|20220630> Ceet - Resumen Retenciones   \n",
       "\n",
       "                                             Comentario  \n",
       "ID                                                       \n",
       "7569                              Shein - Control Horas  \n",
       "7865                         Messer Consolidado Correos  \n",
       "6886                            Messer Ocupación Agente  \n",
       "6887                         Messer Niveles De Servicio  \n",
       "6887                   Messer Niveles De Servicio Chile  \n",
       "...                                                 ...  \n",
       "7408               BBVA - Reporte Tipificación Outbound  \n",
       "8061  Cruz Verde Tablero De Control Unificado Junio ...  \n",
       "6874      Cruz Verde Actualización Kpi's Junio 20220629  \n",
       "7689        Medicarte Tablero De Control Junio 20220629  \n",
       "6254                         Ceet - Resumen Retenciones  \n",
       "\n",
       "[5346 rows x 3 columns]"
      ]
     },
     "execution_count": 137,
     "metadata": {},
     "output_type": "execute_result"
    }
   ],
   "source": [
    "datos = datos.set_index('ID')\n",
    "datos"
   ]
  },
  {
   "cell_type": "markdown",
   "metadata": {},
   "source": [
    "## Eliminamos los ID duplicados."
   ]
  },
  {
   "cell_type": "code",
   "execution_count": 138,
   "metadata": {},
   "outputs": [
    {
     "data": {
      "text/html": [
       "<div>\n",
       "<style scoped>\n",
       "    .dataframe tbody tr th:only-of-type {\n",
       "        vertical-align: middle;\n",
       "    }\n",
       "\n",
       "    .dataframe tbody tr th {\n",
       "        vertical-align: top;\n",
       "    }\n",
       "\n",
       "    .dataframe thead th {\n",
       "        text-align: right;\n",
       "    }\n",
       "</style>\n",
       "<table border=\"1\" class=\"dataframe\">\n",
       "  <thead>\n",
       "    <tr style=\"text-align: right;\">\n",
       "      <th></th>\n",
       "      <th>Fecha / Hora</th>\n",
       "      <th>Asunto</th>\n",
       "      <th>Comentario</th>\n",
       "    </tr>\n",
       "    <tr>\n",
       "      <th>ID</th>\n",
       "      <th></th>\n",
       "      <th></th>\n",
       "      <th></th>\n",
       "    </tr>\n",
       "  </thead>\n",
       "  <tbody>\n",
       "    <tr>\n",
       "      <th>8028</th>\n",
       "      <td>2022-06-02 19:03:38+00:00</td>\n",
       "      <td>&lt;8028|20220602&gt; Banmedica - Tablero de Control...</td>\n",
       "      <td>Banmedica - Tablero de Control Banmédica Mayo</td>\n",
       "    </tr>\n",
       "    <tr>\n",
       "      <th>7835</th>\n",
       "      <td>2022-06-02 19:04:01+00:00</td>\n",
       "      <td>&lt;7835|20220602&gt; Sena - Redes Sociales</td>\n",
       "      <td>Sena - Redes Sociales</td>\n",
       "    </tr>\n",
       "    <tr>\n",
       "      <th>7748</th>\n",
       "      <td>2022-06-02 19:07:37+00:00</td>\n",
       "      <td>&lt;7748|20220602&gt; Liberty Informe Coomeva</td>\n",
       "      <td>Liberty Informe Coomeva</td>\n",
       "    </tr>\n",
       "    <tr>\n",
       "      <th>7459</th>\n",
       "      <td>2022-06-02 19:12:39+00:00</td>\n",
       "      <td>&lt;7459|20220602&gt; BBVA - Reporte Irene Seguros</td>\n",
       "      <td>BBVA - Reporte Irene Seguros</td>\n",
       "    </tr>\n",
       "    <tr>\n",
       "      <th>6532</th>\n",
       "      <td>2022-06-02 19:13:14+00:00</td>\n",
       "      <td>Informe Bo &lt;6532|20220602&gt;</td>\n",
       "      <td>Informe Bo</td>\n",
       "    </tr>\n",
       "    <tr>\n",
       "      <th>7940</th>\n",
       "      <td>2022-06-02 19:30:40+00:00</td>\n",
       "      <td>&lt;7940|20220602&gt; Ceet Informe Ventas caídas - r...</td>\n",
       "      <td>Ceet Informe Ventas caídas - recuperadas</td>\n",
       "    </tr>\n",
       "    <tr>\n",
       "      <th>7459</th>\n",
       "      <td>2022-06-02 19:31:13+00:00</td>\n",
       "      <td>RE: &lt;7459|20220602&gt; BBVA - Reporte Irene Seguros</td>\n",
       "      <td>RE:  BBVA - Reporte Irene Seguros</td>\n",
       "    </tr>\n",
       "    <tr>\n",
       "      <th>7836</th>\n",
       "      <td>2022-06-02 19:32:48+00:00</td>\n",
       "      <td>&lt;7836|20220602&gt; Sena - Transcript Chat</td>\n",
       "      <td>Sena - Transcript Chat</td>\n",
       "    </tr>\n",
       "    <tr>\n",
       "      <th>7562</th>\n",
       "      <td>2022-06-02 19:34:26+00:00</td>\n",
       "      <td>&lt;7562|20220602&gt; Ceet - Ausentismos Suscripciones</td>\n",
       "      <td>Ceet - Ausentismos Suscripciones</td>\n",
       "    </tr>\n",
       "    <tr>\n",
       "      <th>7714</th>\n",
       "      <td>2022-06-02 19:42:14+00:00</td>\n",
       "      <td>&lt;7714|20220602&gt; Publicacion Simple Codigos Det...</td>\n",
       "      <td>Publicacion Simple Codigos Detallados</td>\n",
       "    </tr>\n",
       "  </tbody>\n",
       "</table>\n",
       "</div>"
      ],
      "text/plain": [
       "                  Fecha / Hora  \\\n",
       "ID                               \n",
       "8028 2022-06-02 19:03:38+00:00   \n",
       "7835 2022-06-02 19:04:01+00:00   \n",
       "7748 2022-06-02 19:07:37+00:00   \n",
       "7459 2022-06-02 19:12:39+00:00   \n",
       "6532 2022-06-02 19:13:14+00:00   \n",
       "7940 2022-06-02 19:30:40+00:00   \n",
       "7459 2022-06-02 19:31:13+00:00   \n",
       "7836 2022-06-02 19:32:48+00:00   \n",
       "7562 2022-06-02 19:34:26+00:00   \n",
       "7714 2022-06-02 19:42:14+00:00   \n",
       "\n",
       "                                                 Asunto  \\\n",
       "ID                                                        \n",
       "8028  <8028|20220602> Banmedica - Tablero de Control...   \n",
       "7835              <7835|20220602> Sena - Redes Sociales   \n",
       "7748            <7748|20220602> Liberty Informe Coomeva   \n",
       "7459       <7459|20220602> BBVA - Reporte Irene Seguros   \n",
       "6532                         Informe Bo <6532|20220602>   \n",
       "7940  <7940|20220602> Ceet Informe Ventas caídas - r...   \n",
       "7459   RE: <7459|20220602> BBVA - Reporte Irene Seguros   \n",
       "7836             <7836|20220602> Sena - Transcript Chat   \n",
       "7562   <7562|20220602> Ceet - Ausentismos Suscripciones   \n",
       "7714  <7714|20220602> Publicacion Simple Codigos Det...   \n",
       "\n",
       "                                         Comentario  \n",
       "ID                                                   \n",
       "8028  Banmedica - Tablero de Control Banmédica Mayo  \n",
       "7835                          Sena - Redes Sociales  \n",
       "7748                        Liberty Informe Coomeva  \n",
       "7459                   BBVA - Reporte Irene Seguros  \n",
       "6532                                     Informe Bo  \n",
       "7940       Ceet Informe Ventas caídas - recuperadas  \n",
       "7459              RE:  BBVA - Reporte Irene Seguros  \n",
       "7836                         Sena - Transcript Chat  \n",
       "7562               Ceet - Ausentismos Suscripciones  \n",
       "7714          Publicacion Simple Codigos Detallados  "
      ]
     },
     "execution_count": 138,
     "metadata": {},
     "output_type": "execute_result"
    }
   ],
   "source": [
    "datos.drop_duplicates()\n",
    "datos[495:505]"
   ]
  }
 ],
 "metadata": {
  "kernelspec": {
   "display_name": "Python 3.9.2 64-bit",
   "language": "python",
   "name": "python3"
  },
  "language_info": {
   "codemirror_mode": {
    "name": "ipython",
    "version": 3
   },
   "file_extension": ".py",
   "mimetype": "text/x-python",
   "name": "python",
   "nbconvert_exporter": "python",
   "pygments_lexer": "ipython3",
   "version": "3.9.2"
  },
  "orig_nbformat": 4,
  "vscode": {
   "interpreter": {
    "hash": "31f2aee4e71d21fbe5cf8b01ff0e069b9275f58929596ceb00d14d90e3e16cd6"
   }
  }
 },
 "nbformat": 4,
 "nbformat_minor": 2
}
